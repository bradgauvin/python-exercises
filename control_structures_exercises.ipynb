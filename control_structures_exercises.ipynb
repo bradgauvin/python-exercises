{
 "cells": [
  {
   "cell_type": "code",
   "execution_count": null,
   "id": "a956939a",
   "metadata": {},
   "outputs": [],
   "source": [
    "## Conditional Basics\n",
    "\n",
    "## a. Prompt the user for a day of the week, print out whether the day is Monday or not\n",
    "\n",
    "## b. prompt the user for a day of the week, print out whether the day is a weekday or a weekend\n",
    "\n",
    "## c. create variables and make up values for\n",
    "\n",
    "    #-- the number of hours worked in one week\n",
    "    #-- the hourly rate\n",
    "    #-- how much the week's paycheck will be\n",
    "# write the python code that calculates the weekly paycheck. You get paid time and a half if you work more than 40 hours\n"
   ]
  },
  {
   "cell_type": "code",
   "execution_count": 8,
   "id": "6d5b132c",
   "metadata": {},
   "outputs": [
    {
     "name": "stdout",
     "output_type": "stream",
     "text": [
      "What day of the week is it today? MOnday\n",
      "Today is Monday\n"
     ]
    }
   ],
   "source": [
    "# a. \n",
    "day = input('What day of the week is it today? ')\n",
    "\n",
    "if day.lower() == 'monday':\n",
    "    print(\"Today is \" + day.title())\n",
    "else:\n",
    "    print(\"Today is not \" + day.title())"
   ]
  },
  {
   "cell_type": "code",
   "execution_count": 13,
   "id": "7343c644",
   "metadata": {},
   "outputs": [
    {
     "name": "stdout",
     "output_type": "stream",
     "text": [
      "Day of week: Sunday\n",
      "Sunday is a Weekend day\n"
     ]
    }
   ],
   "source": [
    "# b.\n",
    "week = ['Monday', 'Tuesday', 'Wednesday', 'Thursday', 'Friday']\n",
    "weekend = ['Saturday', 'Sunday']\n",
    "\n",
    "day_of_week = input(\"Day of week: \")\n",
    "\n",
    "if day_of_week in week:\n",
    "    print(day_of_week.title() + \" is a Weekday\")\n",
    "elif day_of_week in weekend:\n",
    "    print(day_of_week.title() + \" is a Weekend day\")\n",
    "else:\n",
    "    print(\"Invalid day\")"
   ]
  },
  {
   "cell_type": "code",
   "execution_count": 25,
   "id": "af3ed389",
   "metadata": {},
   "outputs": [
    {
     "name": "stdout",
     "output_type": "stream",
     "text": [
      "How many hours did you work this week? 40\n",
      "What is your hourly rate? 40\n",
      "You made $1600 this week, before taxes, from 40 at 40 per hour\n",
      "Would you like to calculate a different set of numbers? (y/n)y\n"
     ]
    },
    {
     "ename": "SyntaxError",
     "evalue": "'continue' not properly in loop (3822475409.py, line 22)",
     "output_type": "error",
     "traceback": [
      "\u001b[0;36m  Input \u001b[0;32mIn [25]\u001b[0;36m\u001b[0m\n\u001b[0;31m    continue\u001b[0m\n\u001b[0m    ^\u001b[0m\n\u001b[0;31mSyntaxError\u001b[0m\u001b[0;31m:\u001b[0m 'continue' not properly in loop\n"
     ]
    }
   ],
   "source": [
    "## c. create variables and make up values for\n",
    "\n",
    "    #-- the number of hours worked in one week\n",
    "    #-- the hourly rate\n",
    "    #-- how much the week's paycheck will be\n",
    "\n",
    "n_hours_worked =int(input(\"How many hours did you work this week? \"))\n",
    "h_rate = int(input(\"What is your hourly rate? \"))\n",
    "overtime = 0\n",
    "\n",
    "if n_hours_worked <= 40:\n",
    "    pay_check = n_hours_worked * h_rate\n",
    "elif n_hours_worked > 40:\n",
    "    overtime = n_hours_worked - 40\n",
    "    pay_check = (40 * h_rate) + ((overtime * 1.5) * h_rate)\n",
    "\n",
    "print (f'You made ${pay_check} this week, before taxes, from {n_hours_worked} at {h_rate} per hour')\n",
    "# Doesn't work without 'f' in print function???\n",
    "\n",
    "try_again = input('Would you like to calculate a different set of numbers? (y/n)')\n",
    "if try_again == 'y':\n",
    "    continue\n",
    "else:\n",
    "    break"
   ]
  },
  {
   "cell_type": "code",
   "execution_count": 32,
   "id": "e573ac28",
   "metadata": {},
   "outputs": [
    {
     "name": "stdout",
     "output_type": "stream",
     "text": [
      "5\n",
      "6\n",
      "7\n",
      "8\n",
      "9\n",
      "10\n",
      "11\n",
      "12\n",
      "13\n",
      "14\n",
      "15\n"
     ]
    }
   ],
   "source": [
    "## 2. Loop Basics\n",
    "    # a. while\n",
    "        #- create an integer variable i with a value of 5\n",
    "        # - create a while loop that runs so long as i is less than or equal to 15\n",
    "        # each loop iteration output the current value of i, then increment i by one\n",
    "\n",
    "i = 5\n",
    "\n",
    "while i <= 15:\n",
    "    print(i)\n",
    "    i= i + 1"
   ]
  },
  {
   "cell_type": "code",
   "execution_count": 37,
   "id": "598d1c8d",
   "metadata": {},
   "outputs": [
    {
     "name": "stdout",
     "output_type": "stream",
     "text": [
      "2\n",
      "4\n",
      "6\n",
      "8\n",
      "10\n",
      "12\n",
      "14\n",
      "16\n",
      "18\n",
      "20\n",
      "22\n",
      "24\n",
      "26\n",
      "28\n",
      "30\n",
      "32\n",
      "34\n",
      "36\n",
      "38\n",
      "40\n",
      "42\n",
      "44\n",
      "46\n",
      "48\n",
      "50\n",
      "52\n",
      "54\n",
      "56\n",
      "58\n",
      "60\n",
      "62\n",
      "64\n",
      "66\n",
      "68\n",
      "70\n",
      "72\n",
      "74\n",
      "76\n",
      "78\n",
      "80\n",
      "82\n",
      "84\n",
      "86\n",
      "88\n",
      "90\n",
      "92\n",
      "94\n",
      "96\n",
      "98\n",
      "100\n"
     ]
    }
   ],
   "source": [
    "## 2. a.\n",
    "    ## Create a while loop that will count by 2's starting with 0 and ending at 100. Follow each number with a new line.\n",
    "    ## Alter your loop to count backwards by 5's from 100 to -10.\n",
    "\n",
    "i = 2\n",
    "    \n",
    "while i <= 100:\n",
    "    print (i)\n",
    "    i = i + 2"
   ]
  },
  {
   "cell_type": "code",
   "execution_count": 38,
   "id": "ea5bf863",
   "metadata": {},
   "outputs": [
    {
     "name": "stdout",
     "output_type": "stream",
     "text": [
      "100\n",
      "95\n",
      "90\n",
      "85\n",
      "80\n",
      "75\n",
      "70\n",
      "65\n",
      "60\n",
      "55\n",
      "50\n",
      "45\n",
      "40\n",
      "35\n",
      "30\n",
      "25\n",
      "20\n",
      "15\n",
      "10\n",
      "5\n",
      "0\n",
      "-5\n",
      "-10\n"
     ]
    }
   ],
   "source": [
    "## 2 a:  ## Alter your loop to count backwards by 5's from 100 to -10.\n",
    "i = 100\n",
    "\n",
    "while i >= -10:\n",
    "    print (i)\n",
    "    i= i - 5\n",
    "    "
   ]
  },
  {
   "cell_type": "code",
   "execution_count": 41,
   "id": "46191c8f",
   "metadata": {},
   "outputs": [
    {
     "name": "stdout",
     "output_type": "stream",
     "text": [
      "2\n",
      "4\n",
      "16\n",
      "256\n",
      "65536\n"
     ]
    }
   ],
   "source": [
    "## 2. a. ## ## Create a while loop that starts at 2, \n",
    "## and displays the number squared on each line while the number is less than 1,000,000. \n",
    "##Output should equal:\n",
    "\n",
    "i = 2\n",
    "\n",
    "while i <= 1000000:\n",
    "    print (i)\n",
    "    i = i ** 2"
   ]
  },
  {
   "cell_type": "code",
   "execution_count": 45,
   "id": "0949d193",
   "metadata": {},
   "outputs": [
    {
     "name": "stdout",
     "output_type": "stream",
     "text": [
      "100\n",
      "95\n",
      "90\n",
      "85\n",
      "80\n",
      "75\n",
      "70\n",
      "65\n",
      "60\n",
      "55\n",
      "50\n",
      "45\n",
      "40\n",
      "35\n",
      "30\n",
      "25\n",
      "20\n",
      "15\n",
      "10\n",
      "5\n"
     ]
    }
   ],
   "source": [
    "## 2.a ## Write a loop that uses print to create the output shown below.\n",
    "\n",
    "i = 100\n",
    "\n",
    "while i >= 1:\n",
    "    print (i)\n",
    "    i = i - 5"
   ]
  },
  {
   "cell_type": "code",
   "execution_count": 53,
   "id": "c8f99160",
   "metadata": {},
   "outputs": [
    {
     "name": "stdout",
     "output_type": "stream",
     "text": [
      "Pick a number (1-10): 7\n",
      "7 x 1 = 7\n",
      "7 x 2 = 14\n",
      "7 x 3 = 21\n",
      "7 x 4 = 28\n",
      "7 x 5 = 35\n",
      "7 x 6 = 42\n",
      "7 x 7 = 49\n",
      "7 x 8 = 56\n",
      "7 x 9 = 63\n",
      "7 x 10 = 70\n"
     ]
    }
   ],
   "source": [
    "## 2. b: For Loops\n",
    " ## Write some code that prompts the user for a number, \n",
    "    ##then shows a multiplication table up through 10 for that number.\n",
    "\n",
    "user_number = int(input('Pick a number (1-10): '))\n",
    "\n",
    "for i in range(1,11):\n",
    "    print(f\"{user_number} x {i} = {user_number*i}\")"
   ]
  },
  {
   "cell_type": "code",
   "execution_count": 54,
   "id": "a56a1693",
   "metadata": {},
   "outputs": [],
   "source": [
    "## create a for loop that uses print to create the output shown"
   ]
  },
  {
   "cell_type": "code",
   "execution_count": 55,
   "id": "3b60f04c",
   "metadata": {},
   "outputs": [
    {
     "name": "stdout",
     "output_type": "stream",
     "text": [
      "1\n",
      "22\n",
      "333\n",
      "4444\n",
      "55555\n",
      "666666\n",
      "7777777\n",
      "88888888\n",
      "999999999\n"
     ]
    }
   ],
   "source": [
    "for i in range(1,10):\n",
    "    print(str(i)*i)"
   ]
  },
  {
   "cell_type": "code",
   "execution_count": 56,
   "id": "1e4ec69c",
   "metadata": {},
   "outputs": [],
   "source": [
    "## break and continue\n",
    "    ## Prompt the user for an odd number between 1 and 50. \n",
    "    ## Use a loop and a break statement to continue prompting the user if they enter invalidinput. \n",
    "    ## (Hint: use the isdigit method on strings to determine this). \n",
    "    ## Use a loop and the continue statement to output all the odd numbers between 1 and 50, \n",
    "    ## except for the number the user entered."
   ]
  },
  {
   "cell_type": "code",
   "execution_count": 58,
   "id": "b223197b",
   "metadata": {},
   "outputs": [
    {
     "name": "stdout",
     "output_type": "stream",
     "text": [
      "Pick an odd number between 1 and 50: 5\n",
      "Here is an odd number: 1\n",
      "Here is an odd number: 3\n",
      "Yikes!  Skipping numbers: 5\n",
      "Here is an odd number: 7\n",
      "Here is an odd number: 9\n",
      "Here is an odd number: 11\n",
      "Here is an odd number: 13\n",
      "Here is an odd number: 15\n",
      "Here is an odd number: 17\n",
      "Here is an odd number: 19\n",
      "Here is an odd number: 21\n",
      "Here is an odd number: 23\n",
      "Here is an odd number: 25\n",
      "Here is an odd number: 27\n",
      "Here is an odd number: 29\n",
      "Here is an odd number: 31\n",
      "Here is an odd number: 33\n",
      "Here is an odd number: 35\n",
      "Here is an odd number: 37\n",
      "Here is an odd number: 39\n",
      "Here is an odd number: 41\n",
      "Here is an odd number: 43\n",
      "Here is an odd number: 45\n",
      "Here is an odd number: 47\n",
      "Here is an odd number: 49\n",
      "Would you like to choose another number? (y/n): n\n",
      "This was fun!\n"
     ]
    }
   ],
   "source": [
    "while True:\n",
    "    prompt = input(\"Pick an odd number between 1 and 50: \")\n",
    "\n",
    "    while prompt.isdigit () == False or int(prompt) % 2 == 0 or int(prompt) not in range(1,50):\n",
    "        print(f\"{prompt} is not an odd number between 1 and 50: \")\n",
    "        prompt = input(\"Pick an odd number between 1 and 50: \")\n",
    "        \n",
    "    while prompt.isdigit () == True and int(prompt) % 2 != 0 and int(prompt) in range(1,50):\n",
    "        for i in range(1,50):\n",
    "            if i % 2 != 0:\n",
    "                if i == int(prompt):\n",
    "                    print('Yikes!  Skipping numbers: {}' .format(prompt))\n",
    "                else:\n",
    "                    print('Here is an odd number: {}' .format(i))\n",
    "        break\n",
    "        \n",
    "    prompt_2 = input(\"Would you like to choose another number? (y/n): \")\n",
    "    if prompt_2.lower() == 'y':\n",
    "        continue\n",
    "    else:\n",
    "        print(\"This was fun!\")\n",
    "        break"
   ]
  },
  {
   "cell_type": "code",
   "execution_count": 59,
   "id": "b3a0bbcb",
   "metadata": {},
   "outputs": [],
   "source": [
    "## The input function can be used to prompt for input and use that input in your python code.\n",
    "## Prompt the user to enter a positive number and write a loop that counts from 0 to that \n",
    "## number. \n",
    "## (Hints: first make sure that the value the user entered is a valid number, \n",
    "## also note that the input function returns a string, so you'll need to convert this \n",
    "## to a numeric type.)"
   ]
  },
  {
   "cell_type": "code",
   "execution_count": 64,
   "id": "04a1c12b",
   "metadata": {},
   "outputs": [
    {
     "name": "stdout",
     "output_type": "stream",
     "text": [
      "Pick a positive number 1\n",
      "0\n",
      "1\n",
      "Would you like to try again? (y/n): y\n",
      "Pick a positive number 8\n",
      "0\n",
      "1\n",
      "2\n",
      "3\n",
      "4\n",
      "5\n",
      "6\n",
      "7\n",
      "8\n",
      "Would you like to try again? (y/n): n\n",
      "This was fun\n"
     ]
    }
   ],
   "source": [
    "while True:\n",
    "    prompt_pos = input(\"Pick a positive number \")\n",
    "    i = 0\n",
    "    \n",
    "    while prompt_pos.isdigit() == False or int(prompt_pos) < 0:\n",
    "        prompt_pos = input(\"Pick a positive number \")\n",
    "        \n",
    "    while prompt_pos.isdigit() == True and i <= int(prompt_pos):\n",
    "        print(i)\n",
    "        i += 1\n",
    "        \n",
    "    user_power = input(\"Would you like to try again? (y/n): \")\n",
    "    if user_power.lower() == 'y':\n",
    "        continue\n",
    "    else:\n",
    "        print('This was fun')\n",
    "        break"
   ]
  },
  {
   "cell_type": "code",
   "execution_count": 65,
   "id": "4c56b55a",
   "metadata": {},
   "outputs": [],
   "source": [
    "## Write a program that prompts the user for a positive integer. \n",
    "## Next write a loop that prints out the numbers from the number the user entered down to 1."
   ]
  },
  {
   "cell_type": "code",
   "execution_count": 68,
   "id": "85d22810",
   "metadata": {},
   "outputs": [
    {
     "name": "stdout",
     "output_type": "stream",
     "text": [
      "Pick a positive number 5\n",
      "5\n",
      "4\n",
      "3\n",
      "2\n",
      "1\n",
      "Would you like to try again? (y/n): y\n",
      "Pick a positive number 3\n",
      "3\n",
      "2\n",
      "1\n",
      "Would you like to try again? (y/n): n\n",
      "These exercises are impossible without help\n"
     ]
    }
   ],
   "source": [
    "while True:\n",
    "    prompt_two = input('Pick a positive number ')\n",
    "    i = prompt_two\n",
    "    \n",
    "    while prompt_two.isdigit() == False or int(prompt_two) < 0:\n",
    "        prompt_two = input('Pick a positive number ')\n",
    "        \n",
    "    while prompt_two.isdigit() == True and int(i) > 0:\n",
    "        i = int(i)\n",
    "        print(i)\n",
    "        i -= 1\n",
    "        \n",
    "    continue_variable = input('Would you like to try again? (y/n): ')\n",
    "    if continue_variable.lower() == 'y':\n",
    "        continue\n",
    "    else:\n",
    "        print(\"These exercises are impossible without help\")\n",
    "        break"
   ]
  },
  {
   "cell_type": "code",
   "execution_count": 79,
   "id": "eca3f719",
   "metadata": {},
   "outputs": [],
   "source": [
    "## 3. Fizzbuzz A.: Write a program that prints the numbers from 1 to 100.\n",
    "    \n",
    "#-- Write a program that prints the numbers from 1 to 100.\n",
    "#-- For multiples of three print \"Fizz\" instead of the number\n",
    "#-- For the multiples of five print \"Buzz\".\n",
    "# -- For numbers which are multiples of both three and five print \"FizzBuzz\"."
   ]
  },
  {
   "cell_type": "code",
   "execution_count": 77,
   "id": "9b5e5c3b",
   "metadata": {},
   "outputs": [
    {
     "name": "stdout",
     "output_type": "stream",
     "text": [
      "1\n",
      "2\n",
      "Fizz\n",
      "4\n",
      "Buzz\n",
      "Fizz\n",
      "7\n",
      "8\n",
      "Fizz\n",
      "Buzz\n",
      "11\n",
      "Fizz\n",
      "13\n",
      "14\n",
      "FizzBuzz\n",
      "16\n",
      "17\n",
      "Fizz\n",
      "19\n",
      "Buzz\n",
      "Fizz\n",
      "22\n",
      "23\n",
      "Fizz\n",
      "Buzz\n",
      "26\n",
      "Fizz\n",
      "28\n",
      "29\n",
      "FizzBuzz\n",
      "31\n",
      "32\n",
      "Fizz\n",
      "34\n",
      "Buzz\n",
      "Fizz\n",
      "37\n",
      "38\n",
      "Fizz\n",
      "Buzz\n",
      "41\n",
      "Fizz\n",
      "43\n",
      "44\n",
      "FizzBuzz\n",
      "46\n",
      "47\n",
      "Fizz\n",
      "49\n",
      "Buzz\n",
      "Fizz\n",
      "52\n",
      "53\n",
      "Fizz\n",
      "Buzz\n",
      "56\n",
      "Fizz\n",
      "58\n",
      "59\n",
      "FizzBuzz\n",
      "61\n",
      "62\n",
      "Fizz\n",
      "64\n",
      "Buzz\n",
      "Fizz\n",
      "67\n",
      "68\n",
      "Fizz\n",
      "Buzz\n",
      "71\n",
      "Fizz\n",
      "73\n",
      "74\n",
      "FizzBuzz\n",
      "76\n",
      "77\n",
      "Fizz\n",
      "79\n",
      "Buzz\n",
      "Fizz\n",
      "82\n",
      "83\n",
      "Fizz\n",
      "Buzz\n",
      "86\n",
      "Fizz\n",
      "88\n",
      "89\n",
      "FizzBuzz\n",
      "91\n",
      "92\n",
      "Fizz\n",
      "94\n",
      "Buzz\n",
      "Fizz\n",
      "97\n",
      "98\n",
      "Fizz\n",
      "Buzz\n"
     ]
    }
   ],
   "source": [
    "for i in range(1,101):\n",
    "    if i % 5 == 0 and i % 3 == 0:\n",
    "        print(\"FizzBuzz\")\n",
    "    elif i % 5 == 0:\n",
    "        print(\"Buzz\")\n",
    "    elif i % 3 == 0:\n",
    "        print(\"Fizz\")\n",
    "    else:\n",
    "        print (i)\n",
    "        "
   ]
  },
  {
   "cell_type": "code",
   "execution_count": 81,
   "id": "40f7a9b5",
   "metadata": {},
   "outputs": [],
   "source": [
    "#Display a table of powers\n",
    "# -- Prompt the user to enter an integer\n",
    "# -- Display a table of squares and cubes from 1 to the value entered.\n",
    "# -- Ask if the user wants to continue.\n",
    "# -- Assume that the user will enter valid data.\n",
    "# -- Only continue if the user agrees to."
   ]
  },
  {
   "cell_type": "code",
   "execution_count": 95,
   "id": "513a6748",
   "metadata": {},
   "outputs": [
    {
     "name": "stdout",
     "output_type": "stream",
     "text": [
      "What number would you like to go up to? 3\n",
      "Number| Squared| Cubed\n",
      "2   |1   |1\n",
      "3   |4   |8\n",
      "4   |9   |27\n",
      "Do you want to continue (y/n)? y\n",
      "What number would you like to go up to? 2\n",
      "Number| Squared| Cubed\n",
      "2   |1   |1\n",
      "3   |4   |8\n",
      "Do you want to continue (y/n)? n\n"
     ]
    }
   ],
   "source": [
    "while True:\n",
    "    prompt = 0\n",
    "    while True:\n",
    "        prompt = input(\"What number would you like to go up to? \")\n",
    "        if not prompt.isdigit():\n",
    "            continue\n",
    "        \n",
    "        prompt = int(prompt)\n",
    "        break\n",
    "\n",
    "    print(\"Number| Squared| Cubed\")\n",
    "    for i in range(1, prompt+1):\n",
    "        print(f\"{i+1}   |{i**2}   |{i ** 3}\")\n",
    "\n",
    "    u_continue = input(\"Do you want to continue (y/n)? \")\n",
    "    if u_continue.lower() == \"y\":\n",
    "        continue\n",
    "    else:\n",
    "        break"
   ]
  },
  {
   "cell_type": "code",
   "execution_count": 91,
   "id": "9f2aee49",
   "metadata": {},
   "outputs": [
    {
     "name": "stdout",
     "output_type": "stream",
     "text": [
      "What nuber would you like to go up to? 3\n",
      "Number| Squared| Cubed\n",
      "2   |1   |1\n",
      "3   |4   |8\n",
      "4   |9   |27\n"
     ]
    }
   ],
   "source": [
    "prompt = int(input(\"What nuber would you like to go up to? \"))\n",
    "\n",
    "print(\"Number| Squared| Cubed\")\n",
    "for i in range(1, prompt+1):\n",
    "    print(f\"{i+1}   |{i**2}   |{i ** 3}\")\n",
    "    "
   ]
  },
  {
   "cell_type": "code",
   "execution_count": 98,
   "id": "05f42a76",
   "metadata": {},
   "outputs": [],
   "source": [
    "# Convert given number grades into letter grades.\n",
    "\n",
    "#- Prompt the user for a numerical grade from 0 to 100.\n",
    "#- Display the corresponding letter grade.\n",
    "#- Prompt the user to continue.\n",
    "#- Assume that the user will enter valid integers for the grades.\n",
    "#- The application should only continue if the user agrees to.\n",
    "#- Grade Ranges:\n",
    "\n",
    "  ##- A : 100 - 88\n",
    "  ##- B : 87 - 80\n",
    "  ##- C : 79 - 67\n",
    "  ##- D : 66 - 60\n",
    "  ##- F : 59 - 0"
   ]
  },
  {
   "cell_type": "code",
   "execution_count": 101,
   "id": "843e41fb",
   "metadata": {},
   "outputs": [
    {
     "name": "stdout",
     "output_type": "stream",
     "text": [
      "what percentage is the grade? (whole number) 99\n",
      "99 is A+\n",
      "Would you like to input the next grade? (y/n) Y\n",
      "what percentage is the grade? (whole number) 92\n",
      "92 is A\n",
      "Would you like to input the next grade? (y/n) y\n",
      "what percentage is the grade? (whole number) 72\n",
      "72 is C\n",
      "Would you like to input the next grade? (y/n) N\n",
      "Thanks\n"
     ]
    }
   ],
   "source": [
    "while True:\n",
    "    grade = int(input(\"what percentage is the grade? (whole number) \"))\n",
    "    \n",
    "    while type(grade)== int:\n",
    "        if grade in range(99,100):\n",
    "            print(f\"{grade} is A+\")\n",
    "            break\n",
    "        if grade in range(88,98):\n",
    "            print(f\"{grade} is A\")\n",
    "            break\n",
    "        if grade in range(80,87):\n",
    "            print(f\"{grade} is B\")\n",
    "            break\n",
    "        if grade in range(67,79):\n",
    "            print(f\"{grade} is C\")\n",
    "            break\n",
    "        if grade in range(60,66):\n",
    "            print(f\"{grade} is D\")\n",
    "            break\n",
    "        if grade in range(0,59):\n",
    "            print(\"f{grade} is F\")\n",
    "            break\n",
    "    \n",
    "    next_grade = input(\"Would you like to input the next grade? (y/n) \")\n",
    "    if next_grade.lower() == 'y':\n",
    "        continue\n",
    "    else: \n",
    "        print(\"Thanks\")\n",
    "        break"
   ]
  },
  {
   "cell_type": "code",
   "execution_count": null,
   "id": "0b3a3907",
   "metadata": {},
   "outputs": [],
   "source": []
  }
 ],
 "metadata": {
  "kernelspec": {
   "display_name": "Python 3 (ipykernel)",
   "language": "python",
   "name": "python3"
  },
  "language_info": {
   "codemirror_mode": {
    "name": "ipython",
    "version": 3
   },
   "file_extension": ".py",
   "mimetype": "text/x-python",
   "name": "python",
   "nbconvert_exporter": "python",
   "pygments_lexer": "ipython3",
   "version": "3.9.12"
  }
 },
 "nbformat": 4,
 "nbformat_minor": 5
}
