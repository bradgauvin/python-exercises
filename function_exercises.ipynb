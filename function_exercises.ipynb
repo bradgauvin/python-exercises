{
 "cells": [
  {
   "cell_type": "code",
   "execution_count": 1,
   "id": "d1f874c9",
   "metadata": {},
   "outputs": [],
   "source": [
    "# CodeUp Functions Exercises"
   ]
  },
  {
   "cell_type": "code",
   "execution_count": 2,
   "id": "27f153ff",
   "metadata": {},
   "outputs": [],
   "source": [
    "# 1. Define a function named is_two. \n",
    "# It should accept one input and return True if the passed input is either the number or the string 2, \n",
    "# False otherwise."
   ]
  },
  {
   "cell_type": "code",
   "execution_count": 5,
   "id": "10efbf0a",
   "metadata": {},
   "outputs": [],
   "source": [
    "# defining function as both number and string\n",
    "def is_two (n):\n",
    "    return n ==2 or n == '2'"
   ]
  },
  {
   "cell_type": "code",
   "execution_count": 7,
   "id": "7c1cb2aa",
   "metadata": {},
   "outputs": [
    {
     "data": {
      "text/plain": [
       "True"
      ]
     },
     "execution_count": 7,
     "metadata": {},
     "output_type": "execute_result"
    }
   ],
   "source": [
    "# Test\n",
    "is_two(2)"
   ]
  },
  {
   "cell_type": "code",
   "execution_count": 8,
   "id": "73988731",
   "metadata": {},
   "outputs": [
    {
     "data": {
      "text/plain": [
       "True"
      ]
     },
     "execution_count": 8,
     "metadata": {},
     "output_type": "execute_result"
    }
   ],
   "source": [
    "# Test\n",
    "is_two('2')"
   ]
  },
  {
   "cell_type": "code",
   "execution_count": 9,
   "id": "1d55e0b3",
   "metadata": {},
   "outputs": [
    {
     "data": {
      "text/plain": [
       "False"
      ]
     },
     "execution_count": 9,
     "metadata": {},
     "output_type": "execute_result"
    }
   ],
   "source": [
    "# Test\n",
    "is_two(3)"
   ]
  },
  {
   "cell_type": "code",
   "execution_count": 10,
   "id": "a6360753",
   "metadata": {},
   "outputs": [
    {
     "data": {
      "text/plain": [
       "False"
      ]
     },
     "execution_count": 10,
     "metadata": {},
     "output_type": "execute_result"
    }
   ],
   "source": [
    "# Test\n",
    "is_two('3')"
   ]
  },
  {
   "cell_type": "code",
   "execution_count": 11,
   "id": "1df35e23",
   "metadata": {},
   "outputs": [],
   "source": [
    "#2 Define a function named is_vowel. It should return True if the passed string is a vowel, False otherwise."
   ]
  },
  {
   "cell_type": "code",
   "execution_count": 12,
   "id": "d8325a46",
   "metadata": {},
   "outputs": [],
   "source": [
    "def is_vowel(string):\n",
    "    # used to identify string \n",
    "    if type(string) == str:\n",
    "        results = string.lower() in ['a','e','i','o','u']\n",
    "        return results\n",
    "    else:\n",
    "        return False"
   ]
  },
  {
   "cell_type": "code",
   "execution_count": 13,
   "id": "0cbe4c46",
   "metadata": {},
   "outputs": [
    {
     "data": {
      "text/plain": [
       "True"
      ]
     },
     "execution_count": 13,
     "metadata": {},
     "output_type": "execute_result"
    }
   ],
   "source": [
    "# Test\n",
    "is_vowel('A')"
   ]
  },
  {
   "cell_type": "code",
   "execution_count": 14,
   "id": "4f0accba",
   "metadata": {},
   "outputs": [
    {
     "data": {
      "text/plain": [
       "False"
      ]
     },
     "execution_count": 14,
     "metadata": {},
     "output_type": "execute_result"
    }
   ],
   "source": [
    "# Test\n",
    "is_vowel('B')"
   ]
  },
  {
   "cell_type": "code",
   "execution_count": 15,
   "id": "f3714a42",
   "metadata": {},
   "outputs": [
    {
     "data": {
      "text/plain": [
       "True"
      ]
     },
     "execution_count": 15,
     "metadata": {},
     "output_type": "execute_result"
    }
   ],
   "source": [
    "# Test\n",
    "is_vowel('e')"
   ]
  },
  {
   "cell_type": "code",
   "execution_count": 16,
   "id": "25b6f281",
   "metadata": {},
   "outputs": [
    {
     "data": {
      "text/plain": [
       "True"
      ]
     },
     "execution_count": 16,
     "metadata": {},
     "output_type": "execute_result"
    }
   ],
   "source": [
    "# Test\n",
    "is_vowel('E')"
   ]
  },
  {
   "cell_type": "code",
   "execution_count": 18,
   "id": "95808c59",
   "metadata": {},
   "outputs": [
    {
     "data": {
      "text/plain": [
       "False"
      ]
     },
     "execution_count": 18,
     "metadata": {},
     "output_type": "execute_result"
    }
   ],
   "source": [
    "# Test\n",
    "is_vowel('ae')"
   ]
  },
  {
   "cell_type": "code",
   "execution_count": 19,
   "id": "b7770ab1",
   "metadata": {},
   "outputs": [
    {
     "data": {
      "text/plain": [
       "False"
      ]
     },
     "execution_count": 19,
     "metadata": {},
     "output_type": "execute_result"
    }
   ],
   "source": [
    "# Test\n",
    "is_vowel(1)"
   ]
  },
  {
   "cell_type": "code",
   "execution_count": 20,
   "id": "c8b011fd",
   "metadata": {},
   "outputs": [],
   "source": [
    "# 3. Define a function named is_consonant. \n",
    "# It should return True if the passed string is a consonant, False otherwise. \n",
    "# Use your is_vowel function to accomplish this."
   ]
  },
  {
   "cell_type": "code",
   "execution_count": 142,
   "id": "7eaa1fc7",
   "metadata": {},
   "outputs": [
    {
     "ename": "IndentationError",
     "evalue": "unindent does not match any outer indentation level (<tokenize>, line 5)",
     "output_type": "error",
     "traceback": [
      "\u001b[0;36m  File \u001b[0;32m<tokenize>:5\u001b[0;36m\u001b[0m\n\u001b[0;31m    else:\u001b[0m\n\u001b[0m    ^\u001b[0m\n\u001b[0;31mIndentationError\u001b[0m\u001b[0;31m:\u001b[0m unindent does not match any outer indentation level\n"
     ]
    }
   ],
   "source": [
    "def is_consonant(string):\n",
    "    # identify vowels only, and ensure they are not a factor\n",
    "    if type(string) == str:\n",
    "        results = string.lower() not in ['a','e','i','o','u']\n",
    "        return results\n",
    "    else:\n",
    "        return False"
   ]
  },
  {
   "cell_type": "code",
   "execution_count": 42,
   "id": "22b94005",
   "metadata": {},
   "outputs": [
    {
     "data": {
      "text/plain": [
       "True"
      ]
     },
     "execution_count": 42,
     "metadata": {},
     "output_type": "execute_result"
    }
   ],
   "source": [
    "is_consonant('B')\n",
    "is_consonant('b')\n"
   ]
  },
  {
   "cell_type": "code",
   "execution_count": 43,
   "id": "1a054e24",
   "metadata": {},
   "outputs": [
    {
     "data": {
      "text/plain": [
       "False"
      ]
     },
     "execution_count": 43,
     "metadata": {},
     "output_type": "execute_result"
    }
   ],
   "source": [
    "is_consonant('A')"
   ]
  },
  {
   "cell_type": "code",
   "execution_count": 44,
   "id": "ff3de748",
   "metadata": {},
   "outputs": [],
   "source": [
    "# 4. Define a function that accepts a string that is a word. \n",
    "# The function should capitalize the first letter of the word if the word starts with a consonant."
   ]
  },
  {
   "cell_type": "code",
   "execution_count": 144,
   "id": "8ab4861b",
   "metadata": {},
   "outputs": [],
   "source": [
    "def cap_word(string):\n",
    "    #Ensure word is a string\n",
    "    if type(string) != str:\n",
    "        return False\n",
    "    # find the first letter in a string\n",
    "    fl = string[0]\n",
    "    # capitalize the first letter in the string\n",
    "    if is_consonant(fl):\n",
    "        string = string.capitalize()\n",
    "    return string"
   ]
  },
  {
   "cell_type": "code",
   "execution_count": 46,
   "id": "1c5d527f",
   "metadata": {},
   "outputs": [
    {
     "data": {
      "text/plain": [
       "'alphabet'"
      ]
     },
     "execution_count": 46,
     "metadata": {},
     "output_type": "execute_result"
    }
   ],
   "source": [
    "# Test\n",
    "cap_word('alphabet')"
   ]
  },
  {
   "cell_type": "code",
   "execution_count": 47,
   "id": "53b14b24",
   "metadata": {},
   "outputs": [
    {
     "data": {
      "text/plain": [
       "'Beta'"
      ]
     },
     "execution_count": 47,
     "metadata": {},
     "output_type": "execute_result"
    }
   ],
   "source": [
    "# Test\n",
    "cap_word('beta')"
   ]
  },
  {
   "cell_type": "code",
   "execution_count": 48,
   "id": "c046fcac",
   "metadata": {},
   "outputs": [
    {
     "data": {
      "text/plain": [
       "False"
      ]
     },
     "execution_count": 48,
     "metadata": {},
     "output_type": "execute_result"
    }
   ],
   "source": [
    "# Test\n",
    "cap_word(4)"
   ]
  },
  {
   "cell_type": "code",
   "execution_count": 49,
   "id": "e8442b2f",
   "metadata": {},
   "outputs": [],
   "source": [
    "# 5 Define a function named calculate_tip. \n",
    "# It should accept a tip percentage (a number between 0 and 1) and the bill total, and return the amount to tip."
   ]
  },
  {
   "cell_type": "code",
   "execution_count": 58,
   "id": "28676b6e",
   "metadata": {},
   "outputs": [],
   "source": [
    "def calculate_tip (bill, tip_perc = .2):\n",
    "    # ensure type is not float\n",
    "    if type(bill) != float:\n",
    "        return false\n",
    "    # Validate tip % is between 0 and 1 \n",
    "    if tip_perc < 0 or tip_perc > 1:\n",
    "        return 'tip between 0 and 1 as decimal (i.e. 0.2 is 20%) placed after bill and a comma (i.e. $.$$, 0.2)'\n",
    "    return tip_perc * bill    "
   ]
  },
  {
   "cell_type": "code",
   "execution_count": 52,
   "id": "4d6006ae",
   "metadata": {},
   "outputs": [
    {
     "data": {
      "text/plain": [
       "4.0"
      ]
     },
     "execution_count": 52,
     "metadata": {},
     "output_type": "execute_result"
    }
   ],
   "source": [
    "# Test\n",
    "calculate_tip(20.00)"
   ]
  },
  {
   "cell_type": "code",
   "execution_count": 59,
   "id": "ceb988c7",
   "metadata": {},
   "outputs": [
    {
     "data": {
      "text/plain": [
       "'tip between 0 and 1 as decimal (i.e. 0.2 is 20%) placed after bill and a comma (i.e. $.$$, 0.2)'"
      ]
     },
     "execution_count": 59,
     "metadata": {},
     "output_type": "execute_result"
    }
   ],
   "source": [
    "# Test\n",
    "calculate_tip (20.00, 10)"
   ]
  },
  {
   "cell_type": "code",
   "execution_count": 60,
   "id": "7ff502b3",
   "metadata": {},
   "outputs": [
    {
     "data": {
      "text/plain": [
       "3.0"
      ]
     },
     "execution_count": 60,
     "metadata": {},
     "output_type": "execute_result"
    }
   ],
   "source": [
    "# Test\n",
    "calculate_tip(20.00, .15)"
   ]
  },
  {
   "cell_type": "code",
   "execution_count": 61,
   "id": "a02e2c75",
   "metadata": {},
   "outputs": [],
   "source": [
    "# 6. Define a function named apply_discount. \n",
    "# It should accept a original price, and a discount percentage, and return the price after the discount is applied."
   ]
  },
  {
   "cell_type": "code",
   "execution_count": 83,
   "id": "ea19a522",
   "metadata": {},
   "outputs": [],
   "source": [
    "def apply_discount(price, discount_perc):\n",
    "    # defining discount amount\n",
    "    discount = price * discount_perc\n",
    "    return price - discount"
   ]
  },
  {
   "cell_type": "code",
   "execution_count": 85,
   "id": "e758a823",
   "metadata": {},
   "outputs": [
    {
     "data": {
      "text/plain": [
       "90.0"
      ]
     },
     "execution_count": 85,
     "metadata": {},
     "output_type": "execute_result"
    }
   ],
   "source": [
    "# Test\n",
    "apply_discount(100,.1)"
   ]
  },
  {
   "cell_type": "code",
   "execution_count": 73,
   "id": "974829e3",
   "metadata": {},
   "outputs": [],
   "source": [
    "# 7. Define a function named handle_commas. \n",
    "# It should accept a string that is a number that contains commas in it as input, and return a number as output."
   ]
  },
  {
   "cell_type": "code",
   "execution_count": 98,
   "id": "0e2db2fe",
   "metadata": {},
   "outputs": [],
   "source": [
    "def handle_commas(string):\n",
    "    # Ensure string is not str\n",
    "    if type(string) != str:\n",
    "        return 'string of numbers w/ commas needed'\n",
    "    # Replacing commas with nothing\n",
    "    string=string.replace(',','')\n",
    "    # ensure string is a digit\n",
    "    if string.isdigit():\n",
    "        return int(string)\n",
    "    else:\n",
    "        'need a string of numbers w/ commas'"
   ]
  },
  {
   "cell_type": "code",
   "execution_count": 99,
   "id": "aa580343",
   "metadata": {},
   "outputs": [
    {
     "data": {
      "text/plain": [
       "1000"
      ]
     },
     "execution_count": 99,
     "metadata": {},
     "output_type": "execute_result"
    }
   ],
   "source": [
    "# Test\n",
    "handle_commas(\"1,000\")"
   ]
  },
  {
   "cell_type": "code",
   "execution_count": 100,
   "id": "034fb806",
   "metadata": {},
   "outputs": [
    {
     "data": {
      "text/plain": [
       "1234567"
      ]
     },
     "execution_count": 100,
     "metadata": {},
     "output_type": "execute_result"
    }
   ],
   "source": [
    "# Test\n",
    "handle_commas(\"1,234,567\")"
   ]
  },
  {
   "cell_type": "code",
   "execution_count": 120,
   "id": "a665658d",
   "metadata": {},
   "outputs": [],
   "source": [
    "#8 Define a function named get_letter_grade. \n",
    "# It should accept a number and return the letter grade associated with that number (A-F).\n",
    "\n",
    "def get_letter_grade(n):\n",
    "    # validate type is an int or float\n",
    "    if type(n) == int or type(n)== float:\n",
    "       # return back the range of n as letter grade\n",
    "        if n in range(90,100):\n",
    "            return 'A'\n",
    "        elif n in range(80,90):\n",
    "            return 'B'\n",
    "        elif n in range(70,80):\n",
    "            return 'C'\n",
    "        else:\n",
    "            return 'F'\n",
    "    else:\n",
    "        return 'Need number'"
   ]
  },
  {
   "cell_type": "code",
   "execution_count": 121,
   "id": "d386a107",
   "metadata": {},
   "outputs": [
    {
     "data": {
      "text/plain": [
       "'C'"
      ]
     },
     "execution_count": 121,
     "metadata": {},
     "output_type": "execute_result"
    }
   ],
   "source": [
    "# Test\n",
    "get_letter_grade(79)"
   ]
  },
  {
   "cell_type": "code",
   "execution_count": 122,
   "id": "f62379c1",
   "metadata": {},
   "outputs": [
    {
     "data": {
      "text/plain": [
       "'A'"
      ]
     },
     "execution_count": 122,
     "metadata": {},
     "output_type": "execute_result"
    }
   ],
   "source": [
    "# Test\n",
    "get_letter_grade(98)"
   ]
  },
  {
   "cell_type": "code",
   "execution_count": 123,
   "id": "11af7e6a",
   "metadata": {},
   "outputs": [
    {
     "data": {
      "text/plain": [
       "'Need number'"
      ]
     },
     "execution_count": 123,
     "metadata": {},
     "output_type": "execute_result"
    }
   ],
   "source": [
    "# Test\n",
    "get_letter_grade('A')"
   ]
  },
  {
   "cell_type": "code",
   "execution_count": 124,
   "id": "d9a3a00c",
   "metadata": {},
   "outputs": [],
   "source": [
    "#9. Define a function named remove_vowels that accepts a string and returns a string with all the vowels removed."
   ]
  },
  {
   "cell_type": "code",
   "execution_count": 125,
   "id": "ac1df3ca",
   "metadata": {},
   "outputs": [],
   "source": [
    "def remove_vowels(string):\n",
    "    # ensure that the string is not str\n",
    "    if type(string) != str:\n",
    "        return 'Need a word'\n",
    "    # defining output as nothing in string\n",
    "    output = ''\n",
    "    # using the prior is_consonant to return only consonants in the str\n",
    "    for letter in string:\n",
    "        if is_consonant(letter):\n",
    "            output +=letter\n",
    "    return output"
   ]
  },
  {
   "cell_type": "code",
   "execution_count": 126,
   "id": "e4c33b9e",
   "metadata": {},
   "outputs": [
    {
     "data": {
      "text/plain": [
       "'lph'"
      ]
     },
     "execution_count": 126,
     "metadata": {},
     "output_type": "execute_result"
    }
   ],
   "source": [
    "# Test\n",
    "remove_vowels('alpha')"
   ]
  },
  {
   "cell_type": "code",
   "execution_count": 127,
   "id": "de1a6039",
   "metadata": {},
   "outputs": [
    {
     "data": {
      "text/plain": [
       "'Need a word'"
      ]
     },
     "execution_count": 127,
     "metadata": {},
     "output_type": "execute_result"
    }
   ],
   "source": [
    "# Test\n",
    "remove_vowels(42)"
   ]
  },
  {
   "cell_type": "code",
   "execution_count": 130,
   "id": "e9ee7c43",
   "metadata": {},
   "outputs": [],
   "source": [
    "# 10 Define a function named normalize_name. \n",
    "# It should accept a string and return a valid python identifier, that is:\n",
    "#    - anything that is not a valid python identifier should be removed\n",
    "#    - leading and trailing whitespace should be removed\n",
    "#    - everything should be lowercase\n",
    "#    - spaces should be replaced with underscores\n",
    "#    - for example:\n",
    "#        - Name will become name\n",
    "#        - First Name will become first_name\n",
    "#        - % Completed will become completed"
   ]
  },
  {
   "cell_type": "code",
   "execution_count": 131,
   "id": "8cc76f46",
   "metadata": {},
   "outputs": [],
   "source": [
    "def normalized_name(string):\n",
    "    # output is nothing\n",
    "    output = ''\n",
    "    # ensure string is in lower case\n",
    "    string = string.lower()\n",
    "    # ensure each character in string is identified to include spaces; return output\n",
    "    for character in string:\n",
    "        if character.isidentifier() or character ==' ':\n",
    "            output += character\n",
    "    # stripping spaces out of output\n",
    "    output = output.strip()\n",
    "    # replacing spaces with underscores\n",
    "    output = output.replace(' ','_')\n",
    "    return output"
   ]
  },
  {
   "cell_type": "code",
   "execution_count": 132,
   "id": "5bb67faa",
   "metadata": {},
   "outputs": [
    {
     "data": {
      "text/plain": [
       "'first_name'"
      ]
     },
     "execution_count": 132,
     "metadata": {},
     "output_type": "execute_result"
    }
   ],
   "source": [
    "# Test\n",
    "normalized_name(\"First Name\")"
   ]
  },
  {
   "cell_type": "code",
   "execution_count": 133,
   "id": "9a4b441e",
   "metadata": {},
   "outputs": [
    {
     "data": {
      "text/plain": [
       "'completed'"
      ]
     },
     "execution_count": 133,
     "metadata": {},
     "output_type": "execute_result"
    }
   ],
   "source": [
    "# Test\n",
    "normalized_name(' % Completed')"
   ]
  },
  {
   "cell_type": "code",
   "execution_count": 135,
   "id": "063998c8",
   "metadata": {},
   "outputs": [],
   "source": [
    "# 11. Write a function named cumulative_sum that accepts a list of numbers and returns a list that is the cumulative\n",
    "# sum of the numbers in the list.\n",
    "#        cumulative_sum([1, 1, 1]) returns [1, 2, 3]\n",
    "#        cumulative_sum([1, 2, 3, 4]) returns [1, 3, 6, 10]"
   ]
  },
  {
   "cell_type": "code",
   "execution_count": 138,
   "id": "907a6a45",
   "metadata": {},
   "outputs": [],
   "source": [
    "def cumulative_sum(n_list):\n",
    "    # define oupt as a list\n",
    "    output = []\n",
    "    #using enumerate to look at each i and then add the next number, then append to correct value\n",
    "    for i, num in enumerate(n_list):\n",
    "        sum_list = sum(n_list[:i + 1])\n",
    "        output.append(sum_list)\n",
    "    return output"
   ]
  },
  {
   "cell_type": "code",
   "execution_count": 139,
   "id": "1b13d4b1",
   "metadata": {},
   "outputs": [
    {
     "data": {
      "text/plain": [
       "[1, 2, 3]"
      ]
     },
     "execution_count": 139,
     "metadata": {},
     "output_type": "execute_result"
    }
   ],
   "source": [
    "# Test\n",
    "cumulative_sum([1, 1, 1])"
   ]
  },
  {
   "cell_type": "code",
   "execution_count": 140,
   "id": "636787b6",
   "metadata": {},
   "outputs": [
    {
     "data": {
      "text/plain": [
       "[1, 3, 6, 10]"
      ]
     },
     "execution_count": 140,
     "metadata": {},
     "output_type": "execute_result"
    }
   ],
   "source": [
    "# Test\n",
    "cumulative_sum([1, 2, 3, 4])"
   ]
  },
  {
   "cell_type": "code",
   "execution_count": null,
   "id": "ba116230",
   "metadata": {},
   "outputs": [],
   "source": []
  }
 ],
 "metadata": {
  "kernelspec": {
   "display_name": "Python 3 (ipykernel)",
   "language": "python",
   "name": "python3"
  },
  "language_info": {
   "codemirror_mode": {
    "name": "ipython",
    "version": 3
   },
   "file_extension": ".py",
   "mimetype": "text/x-python",
   "name": "python",
   "nbconvert_exporter": "python",
   "pygments_lexer": "ipython3",
   "version": "3.9.12"
  }
 },
 "nbformat": 4,
 "nbformat_minor": 5
}
