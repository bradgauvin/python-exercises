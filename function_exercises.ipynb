{
 "cells": [
  {
   "cell_type": "code",
   "execution_count": 1,
   "id": "bd56a8a8",
   "metadata": {},
   "outputs": [],
   "source": [
    "# CodeUp Functions Exercises"
   ]
  },
  {
   "cell_type": "code",
   "execution_count": 2,
   "id": "b289facb",
   "metadata": {},
   "outputs": [],
   "source": [
    "# 1. Define a function named is_two. \n",
    "# It should accept one input and return True if the passed input is either the number or the string 2, \n",
    "# False otherwise."
   ]
  },
  {
   "cell_type": "code",
   "execution_count": 5,
   "id": "8b557bdf",
   "metadata": {},
   "outputs": [],
   "source": [
    "def is_two (n):\n",
    "    return n ==2 or n == '2'"
   ]
  },
  {
   "cell_type": "code",
   "execution_count": 7,
   "id": "6f5efed8",
   "metadata": {},
   "outputs": [
    {
     "data": {
      "text/plain": [
       "True"
      ]
     },
     "execution_count": 7,
     "metadata": {},
     "output_type": "execute_result"
    }
   ],
   "source": [
    "is_two(2)"
   ]
  },
  {
   "cell_type": "code",
   "execution_count": 8,
   "id": "f52628b9",
   "metadata": {},
   "outputs": [
    {
     "data": {
      "text/plain": [
       "True"
      ]
     },
     "execution_count": 8,
     "metadata": {},
     "output_type": "execute_result"
    }
   ],
   "source": [
    "is_two('2')"
   ]
  },
  {
   "cell_type": "code",
   "execution_count": 9,
   "id": "f0a96315",
   "metadata": {},
   "outputs": [
    {
     "data": {
      "text/plain": [
       "False"
      ]
     },
     "execution_count": 9,
     "metadata": {},
     "output_type": "execute_result"
    }
   ],
   "source": [
    "is_two(3)"
   ]
  },
  {
   "cell_type": "code",
   "execution_count": 10,
   "id": "d4c42bbb",
   "metadata": {},
   "outputs": [
    {
     "data": {
      "text/plain": [
       "False"
      ]
     },
     "execution_count": 10,
     "metadata": {},
     "output_type": "execute_result"
    }
   ],
   "source": [
    "is_two('3')"
   ]
  },
  {
   "cell_type": "code",
   "execution_count": 11,
   "id": "34febe46",
   "metadata": {},
   "outputs": [],
   "source": [
    "#2 Define a function named is_vowel. It should return True if the passed string is a vowel, False otherwise."
   ]
  },
  {
   "cell_type": "code",
   "execution_count": 12,
   "id": "2df055f2",
   "metadata": {},
   "outputs": [],
   "source": [
    "def is_vowel(string):\n",
    "    if type(string) == str:\n",
    "        results = string.lower() in ['a','e','i','o','u']\n",
    "        return results\n",
    "    else:\n",
    "        return False"
   ]
  },
  {
   "cell_type": "code",
   "execution_count": 13,
   "id": "5c532a33",
   "metadata": {},
   "outputs": [
    {
     "data": {
      "text/plain": [
       "True"
      ]
     },
     "execution_count": 13,
     "metadata": {},
     "output_type": "execute_result"
    }
   ],
   "source": [
    "is_vowel('A')"
   ]
  },
  {
   "cell_type": "code",
   "execution_count": 14,
   "id": "36dbf8cd",
   "metadata": {},
   "outputs": [
    {
     "data": {
      "text/plain": [
       "False"
      ]
     },
     "execution_count": 14,
     "metadata": {},
     "output_type": "execute_result"
    }
   ],
   "source": [
    "is_vowel('B')"
   ]
  },
  {
   "cell_type": "code",
   "execution_count": 15,
   "id": "06123759",
   "metadata": {},
   "outputs": [
    {
     "data": {
      "text/plain": [
       "True"
      ]
     },
     "execution_count": 15,
     "metadata": {},
     "output_type": "execute_result"
    }
   ],
   "source": [
    "is_vowel('e')"
   ]
  },
  {
   "cell_type": "code",
   "execution_count": 16,
   "id": "8ceed373",
   "metadata": {},
   "outputs": [
    {
     "data": {
      "text/plain": [
       "True"
      ]
     },
     "execution_count": 16,
     "metadata": {},
     "output_type": "execute_result"
    }
   ],
   "source": [
    "is_vowel('E')"
   ]
  },
  {
   "cell_type": "code",
   "execution_count": 18,
   "id": "662cdf73",
   "metadata": {},
   "outputs": [
    {
     "data": {
      "text/plain": [
       "False"
      ]
     },
     "execution_count": 18,
     "metadata": {},
     "output_type": "execute_result"
    }
   ],
   "source": [
    "is_vowel('ae')"
   ]
  },
  {
   "cell_type": "code",
   "execution_count": 19,
   "id": "b095b1e2",
   "metadata": {},
   "outputs": [
    {
     "data": {
      "text/plain": [
       "False"
      ]
     },
     "execution_count": 19,
     "metadata": {},
     "output_type": "execute_result"
    }
   ],
   "source": [
    "is_vowel(1)"
   ]
  },
  {
   "cell_type": "code",
   "execution_count": 20,
   "id": "93585789",
   "metadata": {},
   "outputs": [],
   "source": [
    "# 3. Define a function named is_consonant. \n",
    "# It should return True if the passed string is a consonant, False otherwise. \n",
    "# Use your is_vowel function to accomplish this."
   ]
  },
  {
   "cell_type": "code",
   "execution_count": 34,
   "id": "f21761f7",
   "metadata": {},
   "outputs": [],
   "source": [
    "def is_consonant(string):\n",
    "    if type(string) == str:\n",
    "        results = string.lower() not in ['a','e','i','o','u']\n",
    "        return results\n",
    "    else:\n",
    "        return False"
   ]
  },
  {
   "cell_type": "code",
   "execution_count": 42,
   "id": "c87fd601",
   "metadata": {},
   "outputs": [
    {
     "data": {
      "text/plain": [
       "True"
      ]
     },
     "execution_count": 42,
     "metadata": {},
     "output_type": "execute_result"
    }
   ],
   "source": [
    "is_consonant('B')\n",
    "is_consonant('b')\n"
   ]
  },
  {
   "cell_type": "code",
   "execution_count": 43,
   "id": "5f8f0c5a",
   "metadata": {},
   "outputs": [
    {
     "data": {
      "text/plain": [
       "False"
      ]
     },
     "execution_count": 43,
     "metadata": {},
     "output_type": "execute_result"
    }
   ],
   "source": [
    "is_consonant('A')"
   ]
  },
  {
   "cell_type": "code",
   "execution_count": 44,
   "id": "faad3cf7",
   "metadata": {},
   "outputs": [],
   "source": [
    "# 4. Define a function that accepts a string that is a word. \n",
    "# The function should capitalize the first letter of the word if the word starts with a consonant."
   ]
  },
  {
   "cell_type": "code",
   "execution_count": 45,
   "id": "43b6115e",
   "metadata": {},
   "outputs": [],
   "source": [
    "def cap_word(string):\n",
    "    if type(string) != str:\n",
    "        return False\n",
    "    fl = string[0]\n",
    "    if is_consonant(fl):\n",
    "        string = string.capitalize()\n",
    "    return string"
   ]
  },
  {
   "cell_type": "code",
   "execution_count": 46,
   "id": "53affc22",
   "metadata": {},
   "outputs": [
    {
     "data": {
      "text/plain": [
       "'alphabet'"
      ]
     },
     "execution_count": 46,
     "metadata": {},
     "output_type": "execute_result"
    }
   ],
   "source": [
    "cap_word('alphabet')"
   ]
  },
  {
   "cell_type": "code",
   "execution_count": 47,
   "id": "c7328489",
   "metadata": {},
   "outputs": [
    {
     "data": {
      "text/plain": [
       "'Beta'"
      ]
     },
     "execution_count": 47,
     "metadata": {},
     "output_type": "execute_result"
    }
   ],
   "source": [
    "cap_word('beta')"
   ]
  },
  {
   "cell_type": "code",
   "execution_count": 48,
   "id": "72902f18",
   "metadata": {},
   "outputs": [
    {
     "data": {
      "text/plain": [
       "False"
      ]
     },
     "execution_count": 48,
     "metadata": {},
     "output_type": "execute_result"
    }
   ],
   "source": [
    "cap_word(4)"
   ]
  },
  {
   "cell_type": "code",
   "execution_count": 49,
   "id": "c5abde65",
   "metadata": {},
   "outputs": [],
   "source": [
    "# 5 Define a function named calculate_tip. \n",
    "# It should accept a tip percentage (a number between 0 and 1) and the bill total, and return the amount to tip."
   ]
  },
  {
   "cell_type": "code",
   "execution_count": 58,
   "id": "c68b69e8",
   "metadata": {},
   "outputs": [],
   "source": [
    "def calculate_tip (bill, tip_perc = .2):\n",
    "    if type(bill) != float:\n",
    "        return false\n",
    "    if tip_perc < 0 or tip_perc > 1:\n",
    "        return 'tip between 0 and 1 as decimal (i.e. 0.2 is 20%) placed after bill and a comma (i.e. $.$$, 0.2)'\n",
    "    return tip_perc * bill    "
   ]
  },
  {
   "cell_type": "code",
   "execution_count": 52,
   "id": "c17743d3",
   "metadata": {},
   "outputs": [
    {
     "data": {
      "text/plain": [
       "4.0"
      ]
     },
     "execution_count": 52,
     "metadata": {},
     "output_type": "execute_result"
    }
   ],
   "source": [
    "calculate_tip(20.00)"
   ]
  },
  {
   "cell_type": "code",
   "execution_count": 59,
   "id": "d9b3af11",
   "metadata": {},
   "outputs": [
    {
     "data": {
      "text/plain": [
       "'tip between 0 and 1 as decimal (i.e. 0.2 is 20%) placed after bill and a comma (i.e. $.$$, 0.2)'"
      ]
     },
     "execution_count": 59,
     "metadata": {},
     "output_type": "execute_result"
    }
   ],
   "source": [
    "calculate_tip (20.00, 10)"
   ]
  },
  {
   "cell_type": "code",
   "execution_count": 60,
   "id": "1a61c1a4",
   "metadata": {},
   "outputs": [
    {
     "data": {
      "text/plain": [
       "3.0"
      ]
     },
     "execution_count": 60,
     "metadata": {},
     "output_type": "execute_result"
    }
   ],
   "source": [
    "calculate_tip(20.00, .15)"
   ]
  },
  {
   "cell_type": "code",
   "execution_count": 61,
   "id": "e7d8970d",
   "metadata": {},
   "outputs": [],
   "source": [
    "# 6. Define a function named apply_discount. \n",
    "# It should accept a original price, and a discount percentage, and return the price after the discount is applied."
   ]
  },
  {
   "cell_type": "code",
   "execution_count": 83,
   "id": "3f17287e",
   "metadata": {},
   "outputs": [],
   "source": [
    "def apply_discount(price, discount_perc):\n",
    "    discount = price * discount_perc\n",
    "    return price - discount"
   ]
  },
  {
   "cell_type": "code",
   "execution_count": 85,
   "id": "2f20f27d",
   "metadata": {},
   "outputs": [
    {
     "data": {
      "text/plain": [
       "90.0"
      ]
     },
     "execution_count": 85,
     "metadata": {},
     "output_type": "execute_result"
    }
   ],
   "source": [
    "apply_discount(100,.1)"
   ]
  },
  {
   "cell_type": "code",
   "execution_count": 73,
   "id": "81c71157",
   "metadata": {},
   "outputs": [],
   "source": [
    "# 7. Define a function named handle_commas. \n",
    "# It should accept a string that is a number that contains commas in it as input, and return a number as output."
   ]
  },
  {
   "cell_type": "code",
   "execution_count": 98,
   "id": "5f5b08af",
   "metadata": {},
   "outputs": [],
   "source": [
    "def handle_commas(string):\n",
    "    if type(string) != str:\n",
    "        return 'string of numbers w/ commas needed'\n",
    "    string=string.replace(',','')\n",
    "    if string.isdigit():\n",
    "        return int(string)\n",
    "    else:\n",
    "        'need a string of numbers w/ commas'"
   ]
  },
  {
   "cell_type": "code",
   "execution_count": 99,
   "id": "56549c25",
   "metadata": {},
   "outputs": [
    {
     "data": {
      "text/plain": [
       "1000"
      ]
     },
     "execution_count": 99,
     "metadata": {},
     "output_type": "execute_result"
    }
   ],
   "source": [
    "handle_commas(\"1,000\")"
   ]
  },
  {
   "cell_type": "code",
   "execution_count": 100,
   "id": "3e6a0e2b",
   "metadata": {},
   "outputs": [
    {
     "data": {
      "text/plain": [
       "1234567"
      ]
     },
     "execution_count": 100,
     "metadata": {},
     "output_type": "execute_result"
    }
   ],
   "source": [
    "handle_commas(\"1,234,567\")"
   ]
  },
  {
   "cell_type": "code",
   "execution_count": 120,
   "id": "7a00934b",
   "metadata": {},
   "outputs": [],
   "source": [
    "#8 Define a function named get_letter_grade. \n",
    "# It should accept a number and return the letter grade associated with that number (A-F).\n",
    "\n",
    "def get_letter_grade(n):\n",
    "    if type(n) == int or type(n)== float:\n",
    "        if n in range(90,100):\n",
    "            return 'A'\n",
    "        elif n in range(80,90):\n",
    "            return 'B'\n",
    "        elif n in range(70,80):\n",
    "            return 'C'\n",
    "        else:\n",
    "            return 'F'\n",
    "    else:\n",
    "        return 'Need number'"
   ]
  },
  {
   "cell_type": "code",
   "execution_count": 121,
   "id": "c663fc1e",
   "metadata": {},
   "outputs": [
    {
     "data": {
      "text/plain": [
       "'C'"
      ]
     },
     "execution_count": 121,
     "metadata": {},
     "output_type": "execute_result"
    }
   ],
   "source": [
    "get_letter_grade(79)"
   ]
  },
  {
   "cell_type": "code",
   "execution_count": 122,
   "id": "5d9a7586",
   "metadata": {},
   "outputs": [
    {
     "data": {
      "text/plain": [
       "'A'"
      ]
     },
     "execution_count": 122,
     "metadata": {},
     "output_type": "execute_result"
    }
   ],
   "source": [
    "get_letter_grade(98)"
   ]
  },
  {
   "cell_type": "code",
   "execution_count": 123,
   "id": "a9c18d01",
   "metadata": {},
   "outputs": [
    {
     "data": {
      "text/plain": [
       "'Need number'"
      ]
     },
     "execution_count": 123,
     "metadata": {},
     "output_type": "execute_result"
    }
   ],
   "source": [
    "get_letter_grade('A')"
   ]
  },
  {
   "cell_type": "code",
   "execution_count": 124,
   "id": "9124d747",
   "metadata": {},
   "outputs": [],
   "source": [
    "#9. Define a function named remove_vowels that accepts a string and returns a string with all the vowels removed."
   ]
  },
  {
   "cell_type": "code",
   "execution_count": 125,
   "id": "c03c6f3a",
   "metadata": {},
   "outputs": [],
   "source": [
    "def remove_vowels(string):\n",
    "    if type(string) != str:\n",
    "        return 'Need a word'\n",
    "    output = ''\n",
    "    for letter in string:\n",
    "        if is_consonant(letter):\n",
    "            output +=letter\n",
    "    return output"
   ]
  },
  {
   "cell_type": "code",
   "execution_count": 126,
   "id": "7387322a",
   "metadata": {},
   "outputs": [
    {
     "data": {
      "text/plain": [
       "'lph'"
      ]
     },
     "execution_count": 126,
     "metadata": {},
     "output_type": "execute_result"
    }
   ],
   "source": [
    "remove_vowels('alpha')"
   ]
  },
  {
   "cell_type": "code",
   "execution_count": 127,
   "id": "912da3ff",
   "metadata": {},
   "outputs": [
    {
     "data": {
      "text/plain": [
       "'Need a word'"
      ]
     },
     "execution_count": 127,
     "metadata": {},
     "output_type": "execute_result"
    }
   ],
   "source": [
    "remove_vowels(42)"
   ]
  },
  {
   "cell_type": "code",
   "execution_count": 130,
   "id": "3b9a37cf",
   "metadata": {},
   "outputs": [],
   "source": [
    "# 10 Define a function named normalize_name. \n",
    "# It should accept a string and return a valid python identifier, that is:\n",
    "#    - anything that is not a valid python identifier should be removed\n",
    "#    - leading and trailing whitespace should be removed\n",
    "#    - everything should be lowercase\n",
    "#    - spaces should be replaced with underscores\n",
    "#    - for example:\n",
    "#        - Name will become name\n",
    "#        - First Name will become first_name\n",
    "#        - % Completed will become completed"
   ]
  },
  {
   "cell_type": "code",
   "execution_count": 131,
   "id": "00370f88",
   "metadata": {},
   "outputs": [],
   "source": [
    "def normalized_name(string):\n",
    "    output = ''\n",
    "    string = string.lower()\n",
    "    for character in string:\n",
    "        if character.isidentifier() or character ==' ':\n",
    "            output += character\n",
    "    output = output.strip()\n",
    "    output = output.replace(' ','_')\n",
    "    return output"
   ]
  },
  {
   "cell_type": "code",
   "execution_count": 132,
   "id": "3a69ec34",
   "metadata": {},
   "outputs": [
    {
     "data": {
      "text/plain": [
       "'first_name'"
      ]
     },
     "execution_count": 132,
     "metadata": {},
     "output_type": "execute_result"
    }
   ],
   "source": [
    "normalized_name(\"First Name\")"
   ]
  },
  {
   "cell_type": "code",
   "execution_count": 133,
   "id": "87640be9",
   "metadata": {},
   "outputs": [
    {
     "data": {
      "text/plain": [
       "'completed'"
      ]
     },
     "execution_count": 133,
     "metadata": {},
     "output_type": "execute_result"
    }
   ],
   "source": [
    "normalized_name(' % Completed')"
   ]
  },
  {
   "cell_type": "code",
   "execution_count": 135,
   "id": "b802f335",
   "metadata": {},
   "outputs": [],
   "source": [
    "# 11. Write a function named cumulative_sum that accepts a list of numbers and returns a list that is the cumulative\n",
    "# sum of the numbers in the list.\n",
    "#        cumulative_sum([1, 1, 1]) returns [1, 2, 3]\n",
    "#        cumulative_sum([1, 2, 3, 4]) returns [1, 3, 6, 10]"
   ]
  },
  {
   "cell_type": "code",
   "execution_count": 138,
   "id": "e3a695d4",
   "metadata": {},
   "outputs": [],
   "source": [
    "def cumulative_sum(n_list):\n",
    "    output = []\n",
    "    for i, num in enumerate(n_list):\n",
    "        sum_list = sum(n_list[:i + 1])\n",
    "        output.append(sum_list)\n",
    "    return output"
   ]
  },
  {
   "cell_type": "code",
   "execution_count": 139,
   "id": "29610f9c",
   "metadata": {},
   "outputs": [
    {
     "data": {
      "text/plain": [
       "[1, 2, 3]"
      ]
     },
     "execution_count": 139,
     "metadata": {},
     "output_type": "execute_result"
    }
   ],
   "source": [
    "cumulative_sum([1, 1, 1])"
   ]
  },
  {
   "cell_type": "code",
   "execution_count": 140,
   "id": "3983202e",
   "metadata": {},
   "outputs": [
    {
     "data": {
      "text/plain": [
       "[1, 3, 6, 10]"
      ]
     },
     "execution_count": 140,
     "metadata": {},
     "output_type": "execute_result"
    }
   ],
   "source": [
    "cumulative_sum([1, 2, 3, 4])"
   ]
  },
  {
   "cell_type": "code",
   "execution_count": null,
   "id": "aca9696d",
   "metadata": {},
   "outputs": [],
   "source": []
  }
 ],
 "metadata": {
  "kernelspec": {
   "display_name": "Python 3 (ipykernel)",
   "language": "python",
   "name": "python3"
  },
  "language_info": {
   "codemirror_mode": {
    "name": "ipython",
    "version": 3
   },
   "file_extension": ".py",
   "mimetype": "text/x-python",
   "name": "python",
   "nbconvert_exporter": "python",
   "pygments_lexer": "ipython3",
   "version": "3.9.12"
  }
 },
 "nbformat": 4,
 "nbformat_minor": 5
}
