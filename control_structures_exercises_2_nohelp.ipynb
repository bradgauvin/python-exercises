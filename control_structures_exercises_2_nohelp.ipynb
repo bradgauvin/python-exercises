{
 "cells": [
  {
   "cell_type": "code",
   "execution_count": 1,
   "id": "d17a64eb",
   "metadata": {},
   "outputs": [],
   "source": [
    "## Redoing Control exercises for practice - without help (Hopefully)"
   ]
  },
  {
   "cell_type": "code",
   "execution_count": 2,
   "id": "0fcacdcd",
   "metadata": {},
   "outputs": [],
   "source": [
    "## a. Prompt the user for a day of the week, print out whether the day is Monday or not\n",
    "\n",
    "## b. prompt the user for a day of the week, print out whether the day is a weekday or a weekend\n",
    "\n",
    "## c. create variables and make up values for\n",
    "\n",
    "    #-- the number of hours worked in one week\n",
    "    #-- the hourly rate\n",
    "    #-- how much the week's paycheck will be\n",
    "# write the python code that calculates the weekly paycheck. You get paid time and a half if you work more than 40 hours\n",
    "\n"
   ]
  },
  {
   "cell_type": "code",
   "execution_count": 17,
   "id": "0c39eda9",
   "metadata": {},
   "outputs": [
    {
     "name": "stdout",
     "output_type": "stream",
     "text": [
      "what day of the week is it ?: monday\n",
      "Today is Monday, a weekday - go to work!\n",
      "Would you like to try again? y/n:Y\n",
      "Nevermind... that's a loop function\n"
     ]
    }
   ],
   "source": [
    "day_of_week_prompt = input(\"what day of the week is it ?: \")\n",
    "\n",
    "if day_of_week_prompt.lower() == \"monday\":\n",
    "    print(\"Today is Monday, a weekday - go to work!\")\n",
    "elif day_of_week_prompt.lower() == \"saturday\" or \"sunday\":\n",
    "    print(\"Today is a weekend!  Sleep in\")\n",
    "else:\n",
    "    print(\"Today is a weekday\")\n",
    "    \n",
    "try_again = input(\"Would you like to try again? y/n:\")\n",
    "\n",
    "if try_again.lower() == 'y':\n",
    "    print(\"Nevermind... that's a loop function\")\n",
    "else:\n",
    "    print(\"Thanks for playing!\")"
   ]
  },
  {
   "cell_type": "code",
   "execution_count": null,
   "id": "d0d031ee",
   "metadata": {},
   "outputs": [],
   "source": [
    "## c. create variables and make up values for\n",
    "\n",
    "    #-- the number of hours worked in one week\n",
    "    #-- the hourly rate\n",
    "    #-- how much the week's paycheck will be\n",
    "# write the python code that calculates the weekly paycheck. You get paid time and a half if you work more than 40 hours"
   ]
  },
  {
   "cell_type": "code",
   "execution_count": 23,
   "id": "5f7e42c4",
   "metadata": {},
   "outputs": [
    {
     "name": "stdout",
     "output_type": "stream",
     "text": [
      "How many hours did you work this week? 40\n",
      "What is your hourly rate? 20\n",
      "You made $800 from 40 at a rate of $20 per hour, prior to taxes\n",
      "Would you like to calculate a different set of numbers? (y/n)y\n"
     ]
    },
    {
     "ename": "SyntaxError",
     "evalue": "'break' outside loop (3184077363.py, line 17)",
     "output_type": "error",
     "traceback": [
      "\u001b[0;36m  Input \u001b[0;32mIn [23]\u001b[0;36m\u001b[0m\n\u001b[0;31m    break\u001b[0m\n\u001b[0m    ^\u001b[0m\n\u001b[0;31mSyntaxError\u001b[0m\u001b[0;31m:\u001b[0m 'break' outside loop\n"
     ]
    }
   ],
   "source": [
    "n_hours_worked =int(input(\"How many hours did you work this week? \"))\n",
    "h_rate = int(input(\"What is your hourly rate? \"))\n",
    "overtime = 0\n",
    "\n",
    "if n_hours_worked <= 40:\n",
    "    pay_check = n_hours_worked * h_rate\n",
    "elif n_hours_worked > 40:\n",
    "    overtime = n_hours_worked - 40\n",
    "    pay_check = (h_rate * 40) + (overtime * (1.5 * h_rate))\n",
    "\n",
    "print(f\"You made ${pay_check} from {n_hours_worked} at a rate of ${h_rate} per hour, prior to taxes\")\n",
    "\n",
    "try_again = input('Would you like to calculate a different set of numbers? (y/n)')\n",
    "if try_again == 'y':\n",
    "    print(\"Just kidding... that's for loops\")\n",
    "else:\n",
    "    break"
   ]
  },
  {
   "cell_type": "code",
   "execution_count": null,
   "id": "249918bf",
   "metadata": {},
   "outputs": [],
   "source": [
    "## 2. Loop Basics\n",
    "    # a. while\n",
    "        #- create an integer variable i with a value of 5\n",
    "        # - create a while loop that runs so long as i is less than or equal to 15\n",
    "        # each loop iteration output the current value of i, then increment i by one"
   ]
  },
  {
   "cell_type": "code",
   "execution_count": 25,
   "id": "47c54887",
   "metadata": {},
   "outputs": [
    {
     "name": "stdout",
     "output_type": "stream",
     "text": [
      "5\n",
      "6\n",
      "7\n",
      "8\n",
      "9\n",
      "10\n",
      "11\n",
      "12\n",
      "13\n",
      "14\n",
      "15\n"
     ]
    }
   ],
   "source": [
    "i = 5\n",
    "while i <= 15:\n",
    "    print(i)\n",
    "    i=i+1"
   ]
  },
  {
   "cell_type": "code",
   "execution_count": 26,
   "id": "1716721a",
   "metadata": {},
   "outputs": [],
   "source": [
    "## 2. a.\n",
    "    ## Create a while loop that will count by 2's starting with 0 and ending at 100. Follow each number with a new line.\n",
    "    ## Alter your loop to count backwards by 5's from 100 to -10."
   ]
  },
  {
   "cell_type": "code",
   "execution_count": 28,
   "id": "125bf11d",
   "metadata": {},
   "outputs": [
    {
     "name": "stdout",
     "output_type": "stream",
     "text": [
      "0\n",
      "2\n",
      "4\n",
      "6\n",
      "8\n",
      "10\n",
      "12\n",
      "14\n",
      "16\n",
      "18\n",
      "20\n",
      "22\n",
      "24\n",
      "26\n",
      "28\n",
      "30\n",
      "32\n",
      "34\n",
      "36\n",
      "38\n",
      "40\n",
      "42\n",
      "44\n",
      "46\n",
      "48\n",
      "50\n",
      "52\n",
      "54\n",
      "56\n",
      "58\n",
      "60\n",
      "62\n",
      "64\n",
      "66\n",
      "68\n",
      "70\n",
      "72\n",
      "74\n",
      "76\n",
      "78\n",
      "80\n",
      "82\n",
      "84\n",
      "86\n",
      "88\n",
      "90\n",
      "92\n",
      "94\n",
      "96\n",
      "98\n",
      "100\n"
     ]
    }
   ],
   "source": [
    "i = 0\n",
    "\n",
    "while i <= 100:\n",
    "    print(i)\n",
    "    i=i+2"
   ]
  },
  {
   "cell_type": "code",
   "execution_count": 29,
   "id": "51bff23d",
   "metadata": {},
   "outputs": [
    {
     "name": "stdout",
     "output_type": "stream",
     "text": [
      "100\n",
      "95\n",
      "90\n",
      "85\n",
      "80\n",
      "75\n",
      "70\n",
      "65\n",
      "60\n",
      "55\n",
      "50\n",
      "45\n",
      "40\n",
      "35\n",
      "30\n",
      "25\n",
      "20\n",
      "15\n",
      "10\n",
      "5\n",
      "0\n",
      "-5\n",
      "-10\n"
     ]
    }
   ],
   "source": [
    "## 2 a:  ## Alter your loop to count backwards by 5's from 100 to -10.\n",
    "i = 100\n",
    "\n",
    "while i >= -10:\n",
    "    print (i)\n",
    "    i= i - 5"
   ]
  },
  {
   "cell_type": "code",
   "execution_count": 30,
   "id": "6db6244d",
   "metadata": {},
   "outputs": [
    {
     "name": "stdout",
     "output_type": "stream",
     "text": [
      "2\n",
      "4\n",
      "16\n",
      "256\n",
      "65536\n"
     ]
    }
   ],
   "source": [
    "## 2. a. ## ## Create a while loop that starts at 2, \n",
    "## and displays the number squared on each line while the number is less than 1,000,000. \n",
    "##Output should equal:\n",
    "\n",
    "i = 2\n",
    "while i <= 1000000:\n",
    "    print(i)\n",
    "    i=i**2"
   ]
  },
  {
   "cell_type": "code",
   "execution_count": 31,
   "id": "b5c4e583",
   "metadata": {},
   "outputs": [
    {
     "name": "stdout",
     "output_type": "stream",
     "text": [
      "100\n",
      "95\n",
      "90\n",
      "85\n",
      "80\n",
      "75\n",
      "70\n",
      "65\n",
      "60\n",
      "55\n",
      "50\n",
      "45\n",
      "40\n",
      "35\n",
      "30\n",
      "25\n",
      "20\n",
      "15\n",
      "10\n",
      "5\n"
     ]
    }
   ],
   "source": [
    "## Write a loop that uses print to create the output shown below.\n",
    "i = 100\n",
    "while i >=1:\n",
    "    print(i)\n",
    "    i=i-5"
   ]
  },
  {
   "cell_type": "code",
   "execution_count": 32,
   "id": "772a6c44",
   "metadata": {},
   "outputs": [],
   "source": [
    "## 2. b: For Loops\n",
    " ## Write some code that prompts the user for a number, \n",
    "    ##then shows a multiplication table up through 10 for that number."
   ]
  },
  {
   "cell_type": "code",
   "execution_count": 38,
   "id": "98df87b6",
   "metadata": {},
   "outputs": [
    {
     "name": "stdout",
     "output_type": "stream",
     "text": [
      "Pick a number 1 through 10: 7\n",
      "7 x 1 = 7\n",
      "7 x 2 = 14\n",
      "7 x 3 = 21\n",
      "7 x 4 = 28\n",
      "7 x 5 = 35\n",
      "7 x 6 = 42\n",
      "7 x 7 = 49\n",
      "7 x 8 = 56\n",
      "7 x 9 = 63\n",
      "7 x 10 = 70\n"
     ]
    }
   ],
   "source": [
    "prompt = int(input(\"Pick a number 1 through 10: \"))\n",
    "\n",
    "for i in range (1,11):\n",
    "    print(f\"{prompt} x {i} = {prompt*i}\")"
   ]
  },
  {
   "cell_type": "code",
   "execution_count": 41,
   "id": "0b8fbe3a",
   "metadata": {},
   "outputs": [
    {
     "name": "stdout",
     "output_type": "stream",
     "text": [
      "1\n",
      "22\n",
      "333\n",
      "4444\n",
      "55555\n",
      "666666\n",
      "7777777\n",
      "88888888\n",
      "999999999\n"
     ]
    }
   ],
   "source": [
    "## Create a for loop that uses print to create the output shown below.\n",
    "\n",
    "for i in range (1,10):\n",
    "    print (f\"{str(i) * i}\")"
   ]
  },
  {
   "cell_type": "code",
   "execution_count": 42,
   "id": "e8d2424e",
   "metadata": {},
   "outputs": [],
   "source": [
    "## break and continue\n",
    "    ## Prompt the user for an odd number between 1 and 50. \n",
    "    ## Use a loop and a break statement to continue prompting the user if they enter invalidinput. \n",
    "    ## (Hint: use the isdigit method on strings to determine this). \n",
    "    ## Use a loop and the continue statement to output all the odd numbers between 1 and 50, \n",
    "    ## except for the number the user entered."
   ]
  },
  {
   "cell_type": "code",
   "execution_count": 62,
   "id": "614ebeb7",
   "metadata": {},
   "outputs": [
    {
     "name": "stdout",
     "output_type": "stream",
     "text": [
      "Pick an odd number between 1 and 50: 27\n",
      "Here is an odd number: 1\n",
      "Here is an odd number: 3\n",
      "Here is an odd number: 5\n",
      "Here is an odd number: 7\n",
      "Here is an odd number: 9\n",
      "Here is an odd number: 11\n",
      "Here is an odd number: 13\n",
      "Here is an odd number: 15\n",
      "Here is an odd number: 17\n",
      "Here is an odd number: 19\n",
      "Here is an odd number: 21\n",
      "Here is an odd number: 23\n",
      "Here is an odd number: 25\n",
      "Yikes!  Skipping number: 27\n",
      "Here is an odd number: 29\n",
      "Here is an odd number: 31\n",
      "Here is an odd number: 33\n",
      "Here is an odd number: 35\n",
      "Here is an odd number: 37\n",
      "Here is an odd number: 39\n",
      "Here is an odd number: 41\n",
      "Here is an odd number: 43\n",
      "Here is an odd number: 45\n",
      "Here is an odd number: 47\n",
      "Here is an odd number: 49\n",
      "Would you like to try again? y/n :y\n",
      "Pick an odd number between 1 and 50: 25\n",
      "Here is an odd number: 1\n",
      "Here is an odd number: 3\n",
      "Here is an odd number: 5\n",
      "Here is an odd number: 7\n",
      "Here is an odd number: 9\n",
      "Here is an odd number: 11\n",
      "Here is an odd number: 13\n",
      "Here is an odd number: 15\n",
      "Here is an odd number: 17\n",
      "Here is an odd number: 19\n",
      "Here is an odd number: 21\n",
      "Here is an odd number: 23\n",
      "Yikes!  Skipping number: 25\n",
      "Here is an odd number: 27\n",
      "Here is an odd number: 29\n",
      "Here is an odd number: 31\n",
      "Here is an odd number: 33\n",
      "Here is an odd number: 35\n",
      "Here is an odd number: 37\n",
      "Here is an odd number: 39\n",
      "Here is an odd number: 41\n",
      "Here is an odd number: 43\n",
      "Here is an odd number: 45\n",
      "Here is an odd number: 47\n",
      "Here is an odd number: 49\n",
      "Would you like to try again? y/n :n\n",
      "This was fun!\n"
     ]
    }
   ],
   "source": [
    "while True:\n",
    "    u_prompt = input(\"Pick an odd number between 1 and 50: \")\n",
    "    \n",
    "    while u_prompt.isdigit () == False or int(u_prompt) % 2 == 0 or int(u_prompt) not in range(1,50):\n",
    "        print(\"wrong number type, please try again\")\n",
    "        u_prompt = int(input(\"Pick a number between 1 and 50: \"))\n",
    "    \n",
    "    while u_prompt.isdigit () == True and int(u_prompt) % 2 != 0 and int(u_prompt) in range(1,50):\n",
    "        for i in range(1,50):\n",
    "            if i % 2 != 0:\n",
    "                if i == int(u_prompt):\n",
    "                    print(f\"Yikes!  Skipping number: {u_prompt}\")\n",
    "                else:\n",
    "                    print(f\"Here is an odd number: {i}\")\n",
    "        break\n",
    "    prompt_2 = input(\"Would you like to try again? y/n :\")\n",
    "    if prompt_2.lower() == 'y':\n",
    "        continue\n",
    "    else:\n",
    "        print(\"This was fun!\")\n",
    "        break"
   ]
  },
  {
   "cell_type": "code",
   "execution_count": null,
   "id": "f9811716",
   "metadata": {},
   "outputs": [],
   "source": [
    "## The input function can be used to prompt for input and use that input in your python code.\n",
    "## Prompt the user to enter a positive number and write a loop that counts from 0 to that \n",
    "## number. \n",
    "## (Hints: first make sure that the value the user entered is a valid number, \n",
    "## also note that the input function returns a string, so you'll need to convert this \n",
    "## to a numeric type.)"
   ]
  },
  {
   "cell_type": "code",
   "execution_count": 70,
   "id": "23ce0758",
   "metadata": {},
   "outputs": [
    {
     "name": "stdout",
     "output_type": "stream",
     "text": [
      "Pick a positive number : 2\n",
      "0\n",
      "1\n",
      "2\n",
      "Would you like to try again? (y/n): y\n",
      "Pick a positive number : 1\n",
      "0\n",
      "1\n",
      "Would you like to try again? (y/n): n\n",
      "This was fun\n"
     ]
    }
   ],
   "source": [
    "while True:\n",
    "    pos_prompt = input(\"Pick a positive number : \")\n",
    "    i = 0\n",
    "    \n",
    "    while pos_prompt.isdigit () == False or int(pos_prompt) < 0: \n",
    "        pos_prompt = input(\"Pick a positive number : \")\n",
    "    while pos_prompt.isdigit () == True and i <= int(pos_prompt):\n",
    "        print(i)\n",
    "        i= i + 1\n",
    "           \n",
    "    user_power = input(\"Would you like to try again? (y/n): \")\n",
    "    if user_power.lower() == 'y':\n",
    "        continue\n",
    "    else:\n",
    "        print('This was fun')\n",
    "        break"
   ]
  },
  {
   "cell_type": "code",
   "execution_count": null,
   "id": "314c2672",
   "metadata": {},
   "outputs": [],
   "source": [
    "## Write a program that prompts the user for a positive integer. Next write a loop that prints out the numbers from the number the user entered down to 1."
   ]
  },
  {
   "cell_type": "code",
   "execution_count": 73,
   "id": "1c90a68a",
   "metadata": {},
   "outputs": [
    {
     "name": "stdout",
     "output_type": "stream",
     "text": [
      "Pick a positive number : 2\n",
      "2\n",
      "1\n",
      "Would you like to try again? (y/n): y\n",
      "Pick a positive number : 3\n",
      "3\n",
      "2\n",
      "1\n",
      "Would you like to try again? (y/n): n\n",
      "This was fun\n"
     ]
    }
   ],
   "source": [
    "while True:\n",
    "    pos_prompt2 = input(\"Pick a positive number : \")\n",
    "    i = pos_prompt2\n",
    "    \n",
    "    while pos_prompt2.isdigit () == False or int(pos_prompt2) < 0: \n",
    "        pos_prompt2 = input(\"Pick a positive number : \")\n",
    "    while pos_prompt2.isdigit () == True and int(i) > 0:\n",
    "        i = int(i)\n",
    "        print(i)\n",
    "        i= i - 1\n",
    "    \n",
    "    user_power = input(\"Would you like to try again? (y/n): \")\n",
    "    if user_power.lower() == 'y':\n",
    "        continue\n",
    "    else:\n",
    "        print('This was fun')\n",
    "        break"
   ]
  },
  {
   "cell_type": "code",
   "execution_count": 74,
   "id": "3f4966b2",
   "metadata": {},
   "outputs": [],
   "source": [
    "## 3. Fizzbuzz A.: Write a program that prints the numbers from 1 to 100.\n",
    "    \n",
    "#-- Write a program that prints the numbers from 1 to 100.\n",
    "#-- For multiples of three print \"Fizz\" instead of the number\n",
    "#-- For the multiples of five print \"Buzz\".\n",
    "# -- For numbers which are multiples of both three and five print \"FizzBuzz\"."
   ]
  },
  {
   "cell_type": "code",
   "execution_count": 80,
   "id": "a4eb5f22",
   "metadata": {},
   "outputs": [
    {
     "name": "stdout",
     "output_type": "stream",
     "text": [
      "1\n",
      "2\n",
      "Fizz\n",
      "4\n",
      "Buzz\n",
      "Fizz\n",
      "7\n",
      "8\n",
      "Fizz\n",
      "Buzz\n",
      "11\n",
      "Fizz\n",
      "13\n",
      "14\n",
      "FizzBuzz\n",
      "16\n",
      "17\n",
      "Fizz\n",
      "19\n",
      "Buzz\n",
      "Fizz\n",
      "22\n",
      "23\n",
      "Fizz\n",
      "Buzz\n",
      "26\n",
      "Fizz\n",
      "28\n",
      "29\n",
      "FizzBuzz\n",
      "31\n",
      "32\n",
      "Fizz\n",
      "34\n",
      "Buzz\n",
      "Fizz\n",
      "37\n",
      "38\n",
      "Fizz\n",
      "Buzz\n",
      "41\n",
      "Fizz\n",
      "43\n",
      "44\n",
      "FizzBuzz\n",
      "46\n",
      "47\n",
      "Fizz\n",
      "49\n",
      "Buzz\n",
      "Fizz\n",
      "52\n",
      "53\n",
      "Fizz\n",
      "Buzz\n",
      "56\n",
      "Fizz\n",
      "58\n",
      "59\n",
      "FizzBuzz\n",
      "61\n",
      "62\n",
      "Fizz\n",
      "64\n",
      "Buzz\n",
      "Fizz\n",
      "67\n",
      "68\n",
      "Fizz\n",
      "Buzz\n",
      "71\n",
      "Fizz\n",
      "73\n",
      "74\n",
      "FizzBuzz\n",
      "76\n",
      "77\n",
      "Fizz\n",
      "79\n",
      "Buzz\n",
      "Fizz\n",
      "82\n",
      "83\n",
      "Fizz\n",
      "Buzz\n",
      "86\n",
      "Fizz\n",
      "88\n",
      "89\n",
      "FizzBuzz\n",
      "91\n",
      "92\n",
      "Fizz\n",
      "94\n",
      "Buzz\n",
      "Fizz\n",
      "97\n",
      "98\n",
      "Fizz\n"
     ]
    }
   ],
   "source": [
    "for i in range(1,100):\n",
    "    if i % 5 == 0 and i % 3 == 0:\n",
    "        print(\"FizzBuzz\")\n",
    "    elif i % 3 == 0:\n",
    "        print(\"Fizz\")\n",
    "    elif i % 5 == 0:\n",
    "        print(\"Buzz\")\n",
    "    else:\n",
    "        print(i)"
   ]
  },
  {
   "cell_type": "code",
   "execution_count": 81,
   "id": "a42d04c9",
   "metadata": {},
   "outputs": [],
   "source": [
    "#Display a table of powers\n",
    "# -- Prompt the user to enter an integer\n",
    "# -- Display a table of squares and cubes from 1 to the value entered.\n",
    "# -- Ask if the user wants to continue.\n",
    "# -- Assume that the user will enter valid data.\n",
    "# -- Only continue if the user agrees to."
   ]
  },
  {
   "cell_type": "code",
   "execution_count": 99,
   "id": "8a92b700",
   "metadata": {},
   "outputs": [
    {
     "name": "stdout",
     "output_type": "stream",
     "text": [
      "What number would you like to go up to? :5\n",
      "number|squared|cubed\n",
      "------|-------|-----\n",
      "1     |   1   |     1\n",
      "2     |   4   |     8\n",
      "3     |   9   |    27\n",
      "4     |   16  |    64\n",
      "5     |   25  |   125\n",
      "Would you like to try again? (y/n): y\n",
      "What number would you like to go up to? :3\n",
      "number|squared|cubed\n",
      "------|-------|-----\n",
      "1     |   1   |     1\n",
      "2     |   4   |     8\n",
      "3     |   9   |    27\n",
      "Would you like to try again? (y/n): n\n",
      "This was fun\n"
     ]
    }
   ],
   "source": [
    "while True:\n",
    "    power_prompt = 0\n",
    "    while True:\n",
    "            power_prompt = input(\"What number would you like to go up to? :\")\n",
    "            if not power_prompt.isdigit():\n",
    "                continue\n",
    "                \n",
    "            power_prompt = int(power_prompt)\n",
    "            break\n",
    "\n",
    "    print(\"number|squared|cubed\")\n",
    "    print('------|-------|-----')\n",
    "    for i in range(1,power_prompt+1):\n",
    "                print(f\"{i: <6}| {i**2: ^6}| {i**3: 5}\")\n",
    "\n",
    "    user_power = input(\"Would you like to try again? (y/n): \")\n",
    "    if user_power.lower() == 'y':\n",
    "                continue\n",
    "    else:\n",
    "        print('This was fun')\n",
    "        break"
   ]
  },
  {
   "cell_type": "code",
   "execution_count": null,
   "id": "dc49a50b",
   "metadata": {},
   "outputs": [],
   "source": [
    "# Convert given number grades into letter grades.\n",
    "\n",
    "#- Prompt the user for a numerical grade from 0 to 100.\n",
    "#- Display the corresponding letter grade.\n",
    "#- Prompt the user to continue.\n",
    "#- Assume that the user will enter valid integers for the grades.\n",
    "#- The application should only continue if the user agrees to.\n",
    "#- Grade Ranges:\n",
    "\n",
    "  ##- A : 100 - 88\n",
    "  ##- B : 87 - 80\n",
    "  ##- C : 79 - 67\n",
    "  ##- D : 66 - 60\n",
    "  ##- F : 59 - 0"
   ]
  },
  {
   "cell_type": "code",
   "execution_count": null,
   "id": "a8acbeed",
   "metadata": {},
   "outputs": [
    {
     "name": "stdout",
     "output_type": "stream",
     "text": [
      "what percentage is the grade? (whole number) 99\n",
      "99 is an 'A+'\n",
      "Would you like to try again? (y/n): y\n",
      "what percentage is the grade? (whole number) 97\n",
      "97 is an 'A'\n"
     ]
    }
   ],
   "source": [
    "while True:\n",
    "    grade = int(input(\"what percentage is the grade? (whole number) \"))\n",
    "    \n",
    "    while type(grade)==int:\n",
    "        if grade in range(99,100):\n",
    "            print(f\"{grade} is an 'A+'\")\n",
    "            break\n",
    "        if grade in range(87,99):\n",
    "            print(f\"{grade} is an 'A'\")\n",
    "            break\n",
    "        elif grade in range(79,87):\n",
    "            print(f\"{grade} is a 'B'\")\n",
    "            break\n",
    "        elif grade in range(67,79):\n",
    "            print(f\"{grade} is a 'C'\")\n",
    "            break\n",
    "        elif grade in range(60,67):\n",
    "            print(f\"{grade} is a 'D'\")\n",
    "            break\n",
    "        else:\n",
    "            print(f\"{grade} is a 'F'\")\n",
    "            break\n",
    "    \n",
    "    user_power = input(\"Would you like to try again? (y/n): \")\n",
    "    if user_power.lower() == 'y':\n",
    "                continue\n",
    "    else:\n",
    "        print('This was fun')\n",
    "        break"
   ]
  },
  {
   "cell_type": "code",
   "execution_count": null,
   "id": "2c085350",
   "metadata": {},
   "outputs": [],
   "source": []
  },
  {
   "cell_type": "code",
   "execution_count": null,
   "id": "ab223728",
   "metadata": {},
   "outputs": [],
   "source": []
  }
 ],
 "metadata": {
  "kernelspec": {
   "display_name": "Python 3 (ipykernel)",
   "language": "python",
   "name": "python3"
  },
  "language_info": {
   "codemirror_mode": {
    "name": "ipython",
    "version": 3
   },
   "file_extension": ".py",
   "mimetype": "text/x-python",
   "name": "python",
   "nbconvert_exporter": "python",
   "pygments_lexer": "ipython3",
   "version": "3.9.12"
  }
 },
 "nbformat": 4,
 "nbformat_minor": 5
}
