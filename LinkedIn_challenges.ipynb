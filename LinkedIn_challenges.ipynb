{
 "cells": [
  {
   "cell_type": "markdown",
   "id": "f6ee8ba5",
   "metadata": {},
   "source": [
    "# LinkedIn Exercises for more practice"
   ]
  },
  {
   "cell_type": "code",
   "execution_count": 1,
   "id": "95518be4",
   "metadata": {},
   "outputs": [
    {
     "data": {
      "text/plain": [
       "[2, 3, 3, 5, 7]"
      ]
     },
     "execution_count": 1,
     "metadata": {},
     "output_type": "execute_result"
    }
   ],
   "source": [
    "# Make a function that gets prime numbers back\n",
    "\n",
    "def get_prime(x):\n",
    "    factors = list()\n",
    "    divisor = 2\n",
    "    while(divisor <= x):\n",
    "        if (x % divisor) == 0:\n",
    "            factors.append(divisor)\n",
    "            x = x/divisor\n",
    "        else:\n",
    "            divisor += 1\n",
    "    return factors\n",
    "\n",
    "get_prime (630)"
   ]
  },
  {
   "cell_type": "code",
   "execution_count": 2,
   "id": "4191bb40",
   "metadata": {},
   "outputs": [
    {
     "data": {
      "text/plain": [
       "[2, 3, 17, 19]"
      ]
     },
     "execution_count": 2,
     "metadata": {},
     "output_type": "execute_result"
    }
   ],
   "source": [
    "# Test 2\n",
    "get_prime(1938)"
   ]
  },
  {
   "cell_type": "code",
   "execution_count": 3,
   "id": "8174b249",
   "metadata": {},
   "outputs": [
    {
     "data": {
      "text/plain": [
       "[17]"
      ]
     },
     "execution_count": 3,
     "metadata": {},
     "output_type": "execute_result"
    }
   ],
   "source": [
    "# Test 3\n",
    "get_prime(17)"
   ]
  },
  {
   "cell_type": "code",
   "execution_count": 10,
   "id": "a7a11a8f",
   "metadata": {},
   "outputs": [
    {
     "data": {
      "text/plain": [
       "True"
      ]
     },
     "execution_count": 10,
     "metadata": {},
     "output_type": "execute_result"
    }
   ],
   "source": [
    "# Exercise 2: Make palindrome check\n",
    "\n",
    "def palindrome(string):\n",
    "    string = string.lower().replace(' ','')\n",
    "    return string == string[::-1]\n",
    "\n",
    "palindrome('Madam Im adam')"
   ]
  },
  {
   "cell_type": "code",
   "execution_count": 16,
   "id": "ba6ed1b3",
   "metadata": {},
   "outputs": [
    {
     "data": {
      "text/plain": [
       "'Apple banana ORANGE'"
      ]
     },
     "execution_count": 16,
     "metadata": {},
     "output_type": "execute_result"
    }
   ],
   "source": [
    "# Sort a String alphabetically\n",
    "\n",
    "def sort_words(string):\n",
    "    return ' '.join(sorted(string.split(), key = str.casefold))\n",
    "\n",
    "sort_words('banana ORANGE Apple')"
   ]
  },
  {
   "cell_type": "code",
   "execution_count": 20,
   "id": "93a70388",
   "metadata": {},
   "outputs": [
    {
     "data": {
      "text/plain": [
       "[[0, 0, 1], [0, 1], [1, 1]]"
      ]
     },
     "execution_count": 20,
     "metadata": {},
     "output_type": "execute_result"
    }
   ],
   "source": [
    "# Find all list items\n",
    "# Write a python function to index all items in a list\n",
    "\n",
    "def index_all (search_list, item):\n",
    "    indices = list()\n",
    "    for i in range(len(search_list)):\n",
    "        if search_list[i] == item:\n",
    "            indices.append([i])\n",
    "        elif isinstance(search_list[i], list):\n",
    "            for index in index_all(search_list[i], item):\n",
    "                indices.append([i] + index)\n",
    "    return indices\n",
    "\n",
    "example = [[[1,2,3], 2,[1,3]],[1,2,3]]\n",
    "        \n",
    "index_all(example,2)"
   ]
  },
  {
   "cell_type": "code",
   "execution_count": 30,
   "id": "322869eb",
   "metadata": {},
   "outputs": [],
   "source": [
    "# Play the waiting game\n",
    "# press enter and press enter a second time\n",
    "import random\n",
    "import time\n",
    "\n",
    "def waiting_game():\n",
    "    target = random.randint(2,4) #target seconds to wait\n",
    "    print('\\nYour target time is {} seconds'. format(target))\n",
    "    \n",
    "    input(' ---Press Enter to Begin ---')\n",
    "    start = time.perf_counter()\n",
    "    \n",
    "    input('\\n...Press Enter again after {} seconds...'.format(target))\n",
    "    elapsed = time.perf_counter() - start\n",
    "    \n",
    "    print('n\\nElapsed time: {0:.3f} seconds'.format(elapsed))\n",
    "    if elapsed == target:\n",
    "        print('(Unbelievable! Perfect timeing!)')\n",
    "    elif elapsed < target:\n",
    "        print('({0:.3f} seconds too fast)'.format(target-elapsed))\n",
    "    else:\n",
    "        print('({0:.3f} seconds too slow)'.format(elapsed - target))"
   ]
  },
  {
   "cell_type": "code",
   "execution_count": 32,
   "id": "92b00a17",
   "metadata": {},
   "outputs": [
    {
     "name": "stdout",
     "output_type": "stream",
     "text": [
      "\n",
      "Your target time is 2 seconds\n",
      " ---Press Enter to Begin ---\n",
      "\n",
      "...Press Enter again after 2 seconds...\n",
      "n\n",
      "Elapsed time: 1.001 seconds\n",
      "(0.999 seconds too fast)\n"
     ]
    }
   ],
   "source": [
    "waiting_game()\n"
   ]
  },
  {
   "cell_type": "code",
   "execution_count": 40,
   "id": "15b77492",
   "metadata": {},
   "outputs": [],
   "source": [
    "# Save a dictionary to file & load to python again\n",
    "import pickle\n",
    "\n",
    "def save_dict(dict_to_save, file_path):\n",
    "    with open(file_path, 'wb') as file:\n",
    "        pickle.dump(dict_to_save,file)\n",
    "        \n",
    "def load_dict(file_path):\n",
    "    with open(file_path,'rb') as file:\n",
    "        return pickle.load(file)"
   ]
  },
  {
   "cell_type": "code",
   "execution_count": 41,
   "id": "100c996d",
   "metadata": {},
   "outputs": [
    {
     "name": "stdout",
     "output_type": "stream",
     "text": [
      "{1: 'a', 2: 'b', 3: 'c'}\n"
     ]
    }
   ],
   "source": [
    "test_dict = {1: 'a', 2: 'b', 3:'c'}\n",
    "\n",
    "save_dict(test_dict, 'test_dict.pickle')\n",
    "recovered = load_dict('test_dict.pickle')\n",
    "print(recovered)"
   ]
  },
  {
   "cell_type": "code",
   "execution_count": null,
   "id": "38b3000d",
   "metadata": {},
   "outputs": [],
   "source": []
  },
  {
   "cell_type": "code",
   "execution_count": null,
   "id": "6f9f0ba9",
   "metadata": {},
   "outputs": [],
   "source": []
  },
  {
   "cell_type": "code",
   "execution_count": null,
   "id": "1fa4b7b3",
   "metadata": {},
   "outputs": [],
   "source": []
  },
  {
   "cell_type": "code",
   "execution_count": null,
   "id": "3fb3343e",
   "metadata": {},
   "outputs": [],
   "source": []
  }
 ],
 "metadata": {
  "kernelspec": {
   "display_name": "Python 3 (ipykernel)",
   "language": "python",
   "name": "python3"
  },
  "language_info": {
   "codemirror_mode": {
    "name": "ipython",
    "version": 3
   },
   "file_extension": ".py",
   "mimetype": "text/x-python",
   "name": "python",
   "nbconvert_exporter": "python",
   "pygments_lexer": "ipython3",
   "version": "3.9.12"
  }
 },
 "nbformat": 4,
 "nbformat_minor": 5
}
